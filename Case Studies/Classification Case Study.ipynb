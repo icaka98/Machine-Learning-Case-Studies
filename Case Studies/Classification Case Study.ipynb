{
 "cells": [
  {
   "cell_type": "markdown",
   "metadata": {
    "hide": true
   },
   "source": [
    "# KEN3450, Data Analysis, Spring 2020\n",
    "\n",
    "### Clinic 3: Classification in Python\n",
    "\n",
    "**Hristo Minkov - i6161227**\n",
    "\n",
    "**Check the honor policy code posted on the portal before reusing code you found online**\n",
    "\n",
    "***\n",
    "### Learning Goals:\n",
    "\n",
    "By the end of this clinic, you should be able to:\n",
    "\n",
    "* Run Classification Models (Logistic Regression, Decision Trees, Random Forests, etc.) in Python\n",
    "* Explain and tackle issues like missing values or class inbalance in your dataset\n",
    "* Judge the results of a classification model using AUROC scores\n",
    "* Select a proper algorithm that works well with your data using techniques (see also last week) like:\n",
    "    * Cross Validation\n",
    "    * Regularization\n",
    "\n",
    "***"
   ]
  },
  {
   "cell_type": "code",
   "execution_count": 1,
   "metadata": {
    "hide": true,
    "scrolled": true
   },
   "outputs": [
    {
     "name": "stderr",
     "output_type": "stream",
     "text": [
      "c:\\users\\hmi\\appdata\\local\\programs\\python\\python36\\lib\\site-packages\\numpy\\_distributor_init.py:32: UserWarning: loaded more than 1 DLL from .libs:\n",
      "c:\\users\\hmi\\appdata\\local\\programs\\python\\python36\\lib\\site-packages\\numpy\\.libs\\libopenblas.PYQHXLVVQ7VESDPUVUADXEVJOBGHJPAY.gfortran-win_amd64.dll\n",
      "c:\\users\\hmi\\appdata\\local\\programs\\python\\python36\\lib\\site-packages\\numpy\\.libs\\libopenblas.TXA6YQSD3GCQQC22GEQ54J2UDCXDXHWN.gfortran-win_amd64.dll\n",
      "  stacklevel=1)\n"
     ]
    }
   ],
   "source": [
    "import numpy as np\n",
    "import pandas as pd\n",
    "import matplotlib\n",
    "import matplotlib.pyplot as plt\n",
    "import statsmodels.api as sm\n",
    "from statsmodels.api import OLS\n",
    "from sklearn.decomposition import PCA\n",
    "from sklearn.linear_model import LogisticRegression, LinearRegression\n",
    "from sklearn.linear_model import LogisticRegressionCV\n",
    "from sklearn.utils import resample\n",
    "from sklearn.model_selection import cross_val_score, train_test_split\n",
    "from sklearn.metrics import accuracy_score, classification_report, confusion_matrix, plot_confusion_matrix, roc_curve, auc\n",
    "%matplotlib inline\n",
    "import seaborn as sns\n",
    "from xgboost import XGBClassifier\n",
    "from sklearn.ensemble import RandomForestClassifier\n",
    "from sklearn.tree import DecisionTreeClassifier"
   ]
  },
  {
   "cell_type": "markdown",
   "metadata": {},
   "source": [
    "## Part 1: Determine the Inbalance (Asymmetry)"
   ]
  },
  {
   "cell_type": "markdown",
   "metadata": {},
   "source": [
    "First, we would like to notice in our data that they are highly unbalanced (assymetric). Load the data which should contain 9 columns (`health`, `age`, `sex`, `educ`, `sexornt`, `partyid`, `race`, `married`, `income`). `Age`, `educ` (how many years of education a person has) and `income` are quantitative, the others are qualitative."
   ]
  },
  {
   "cell_type": "code",
   "execution_count": 2,
   "metadata": {
    "scrolled": false
   },
   "outputs": [
    {
     "data": {
      "text/html": [
       "<div>\n",
       "<style scoped>\n",
       "    .dataframe tbody tr th:only-of-type {\n",
       "        vertical-align: middle;\n",
       "    }\n",
       "\n",
       "    .dataframe tbody tr th {\n",
       "        vertical-align: top;\n",
       "    }\n",
       "\n",
       "    .dataframe thead th {\n",
       "        text-align: right;\n",
       "    }\n",
       "</style>\n",
       "<table border=\"1\" class=\"dataframe\">\n",
       "  <thead>\n",
       "    <tr style=\"text-align: right;\">\n",
       "      <th></th>\n",
       "      <th>health</th>\n",
       "      <th>age</th>\n",
       "      <th>sex</th>\n",
       "      <th>educ</th>\n",
       "      <th>sexornt</th>\n",
       "      <th>partyid</th>\n",
       "      <th>race</th>\n",
       "      <th>married</th>\n",
       "      <th>income</th>\n",
       "    </tr>\n",
       "  </thead>\n",
       "  <tbody>\n",
       "    <tr>\n",
       "      <th>0</th>\n",
       "      <td>excellent</td>\n",
       "      <td>53</td>\n",
       "      <td>male</td>\n",
       "      <td>16</td>\n",
       "      <td>heterosexual or straight</td>\n",
       "      <td>rep</td>\n",
       "      <td>white</td>\n",
       "      <td>1</td>\n",
       "      <td>18750.0</td>\n",
       "    </tr>\n",
       "    <tr>\n",
       "      <th>1</th>\n",
       "      <td>excellent</td>\n",
       "      <td>26</td>\n",
       "      <td>female</td>\n",
       "      <td>16</td>\n",
       "      <td>heterosexual or straight</td>\n",
       "      <td>rep</td>\n",
       "      <td>white</td>\n",
       "      <td>1</td>\n",
       "      <td>18750.0</td>\n",
       "    </tr>\n",
       "    <tr>\n",
       "      <th>2</th>\n",
       "      <td>good</td>\n",
       "      <td>59</td>\n",
       "      <td>male</td>\n",
       "      <td>13</td>\n",
       "      <td>heterosexual or straight</td>\n",
       "      <td>rep</td>\n",
       "      <td>white</td>\n",
       "      <td>1</td>\n",
       "      <td>NaN</td>\n",
       "    </tr>\n",
       "    <tr>\n",
       "      <th>3</th>\n",
       "      <td>excellent</td>\n",
       "      <td>74</td>\n",
       "      <td>female</td>\n",
       "      <td>17</td>\n",
       "      <td>heterosexual or straight</td>\n",
       "      <td>other</td>\n",
       "      <td>white</td>\n",
       "      <td>1</td>\n",
       "      <td>NaN</td>\n",
       "    </tr>\n",
       "    <tr>\n",
       "      <th>4</th>\n",
       "      <td>poor</td>\n",
       "      <td>37</td>\n",
       "      <td>female</td>\n",
       "      <td>10</td>\n",
       "      <td>heterosexual or straight</td>\n",
       "      <td>other</td>\n",
       "      <td>white</td>\n",
       "      <td>0</td>\n",
       "      <td>NaN</td>\n",
       "    </tr>\n",
       "  </tbody>\n",
       "</table>\n",
       "</div>"
      ],
      "text/plain": [
       "      health  age     sex  educ                   sexornt partyid   race  \\\n",
       "0  excellent   53    male    16  heterosexual or straight     rep  white   \n",
       "1  excellent   26  female    16  heterosexual or straight     rep  white   \n",
       "2       good   59    male    13  heterosexual or straight     rep  white   \n",
       "3  excellent   74  female    17  heterosexual or straight   other  white   \n",
       "4       poor   37  female    10  heterosexual or straight   other  white   \n",
       "\n",
       "   married   income  \n",
       "0        1  18750.0  \n",
       "1        1  18750.0  \n",
       "2        1      NaN  \n",
       "3        1      NaN  \n",
       "4        0      NaN  "
      ]
     },
     "execution_count": 2,
     "metadata": {},
     "output_type": "execute_result"
    }
   ],
   "source": [
    "gssdata=pd.read_csv(\"gssdata4.csv\")\n",
    "gssdata.head()"
   ]
  },
  {
   "cell_type": "markdown",
   "metadata": {},
   "source": [
    "Our goal is to predict if a person is in poor health or not. Let's create some dummy variables in order to measure that."
   ]
  },
  {
   "cell_type": "code",
   "execution_count": 3,
   "metadata": {},
   "outputs": [],
   "source": [
    "poorhealth = np.where(gssdata['health'] == 'poor',1,0)\n",
    "excellenthealth = np.where(gssdata['health'] == 'excellent',1,0)\n",
    "fairhealth = np.where(gssdata['health'] == 'fair',1,0)\n",
    "gssdata['poorhealth'] = poorhealth\n",
    "gssdata['fairhealth'] = fairhealth\n",
    "gssdata['excellenthealth'] = excellenthealth"
   ]
  },
  {
   "cell_type": "code",
   "execution_count": 4,
   "metadata": {},
   "outputs": [
    {
     "data": {
      "text/html": [
       "<div>\n",
       "<style scoped>\n",
       "    .dataframe tbody tr th:only-of-type {\n",
       "        vertical-align: middle;\n",
       "    }\n",
       "\n",
       "    .dataframe tbody tr th {\n",
       "        vertical-align: top;\n",
       "    }\n",
       "\n",
       "    .dataframe thead th {\n",
       "        text-align: right;\n",
       "    }\n",
       "</style>\n",
       "<table border=\"1\" class=\"dataframe\">\n",
       "  <thead>\n",
       "    <tr style=\"text-align: right;\">\n",
       "      <th></th>\n",
       "      <th>health</th>\n",
       "      <th>age</th>\n",
       "      <th>sex</th>\n",
       "      <th>educ</th>\n",
       "      <th>sexornt</th>\n",
       "      <th>partyid</th>\n",
       "      <th>race</th>\n",
       "      <th>married</th>\n",
       "      <th>income</th>\n",
       "      <th>poorhealth</th>\n",
       "      <th>fairhealth</th>\n",
       "      <th>excellenthealth</th>\n",
       "    </tr>\n",
       "  </thead>\n",
       "  <tbody>\n",
       "    <tr>\n",
       "      <th>0</th>\n",
       "      <td>excellent</td>\n",
       "      <td>53</td>\n",
       "      <td>male</td>\n",
       "      <td>16</td>\n",
       "      <td>heterosexual or straight</td>\n",
       "      <td>rep</td>\n",
       "      <td>white</td>\n",
       "      <td>1</td>\n",
       "      <td>18750.0</td>\n",
       "      <td>0</td>\n",
       "      <td>0</td>\n",
       "      <td>1</td>\n",
       "    </tr>\n",
       "    <tr>\n",
       "      <th>1</th>\n",
       "      <td>excellent</td>\n",
       "      <td>26</td>\n",
       "      <td>female</td>\n",
       "      <td>16</td>\n",
       "      <td>heterosexual or straight</td>\n",
       "      <td>rep</td>\n",
       "      <td>white</td>\n",
       "      <td>1</td>\n",
       "      <td>18750.0</td>\n",
       "      <td>0</td>\n",
       "      <td>0</td>\n",
       "      <td>1</td>\n",
       "    </tr>\n",
       "    <tr>\n",
       "      <th>2</th>\n",
       "      <td>good</td>\n",
       "      <td>59</td>\n",
       "      <td>male</td>\n",
       "      <td>13</td>\n",
       "      <td>heterosexual or straight</td>\n",
       "      <td>rep</td>\n",
       "      <td>white</td>\n",
       "      <td>1</td>\n",
       "      <td>NaN</td>\n",
       "      <td>0</td>\n",
       "      <td>0</td>\n",
       "      <td>0</td>\n",
       "    </tr>\n",
       "    <tr>\n",
       "      <th>3</th>\n",
       "      <td>excellent</td>\n",
       "      <td>74</td>\n",
       "      <td>female</td>\n",
       "      <td>17</td>\n",
       "      <td>heterosexual or straight</td>\n",
       "      <td>other</td>\n",
       "      <td>white</td>\n",
       "      <td>1</td>\n",
       "      <td>NaN</td>\n",
       "      <td>0</td>\n",
       "      <td>0</td>\n",
       "      <td>1</td>\n",
       "    </tr>\n",
       "    <tr>\n",
       "      <th>4</th>\n",
       "      <td>poor</td>\n",
       "      <td>37</td>\n",
       "      <td>female</td>\n",
       "      <td>10</td>\n",
       "      <td>heterosexual or straight</td>\n",
       "      <td>other</td>\n",
       "      <td>white</td>\n",
       "      <td>0</td>\n",
       "      <td>NaN</td>\n",
       "      <td>1</td>\n",
       "      <td>0</td>\n",
       "      <td>0</td>\n",
       "    </tr>\n",
       "    <tr>\n",
       "      <th>5</th>\n",
       "      <td>excellent</td>\n",
       "      <td>30</td>\n",
       "      <td>female</td>\n",
       "      <td>15</td>\n",
       "      <td>heterosexual or straight</td>\n",
       "      <td>other</td>\n",
       "      <td>other</td>\n",
       "      <td>1</td>\n",
       "      <td>18750.0</td>\n",
       "      <td>0</td>\n",
       "      <td>0</td>\n",
       "      <td>1</td>\n",
       "    </tr>\n",
       "    <tr>\n",
       "      <th>6</th>\n",
       "      <td>fair</td>\n",
       "      <td>43</td>\n",
       "      <td>female</td>\n",
       "      <td>5</td>\n",
       "      <td>heterosexual or straight</td>\n",
       "      <td>other</td>\n",
       "      <td>other</td>\n",
       "      <td>1</td>\n",
       "      <td>NaN</td>\n",
       "      <td>0</td>\n",
       "      <td>1</td>\n",
       "      <td>0</td>\n",
       "    </tr>\n",
       "    <tr>\n",
       "      <th>7</th>\n",
       "      <td>poor</td>\n",
       "      <td>56</td>\n",
       "      <td>male</td>\n",
       "      <td>11</td>\n",
       "      <td>heterosexual or straight</td>\n",
       "      <td>other</td>\n",
       "      <td>white</td>\n",
       "      <td>0</td>\n",
       "      <td>NaN</td>\n",
       "      <td>1</td>\n",
       "      <td>0</td>\n",
       "      <td>0</td>\n",
       "    </tr>\n",
       "    <tr>\n",
       "      <th>8</th>\n",
       "      <td>good</td>\n",
       "      <td>69</td>\n",
       "      <td>male</td>\n",
       "      <td>8</td>\n",
       "      <td>heterosexual or straight</td>\n",
       "      <td>other</td>\n",
       "      <td>white</td>\n",
       "      <td>1</td>\n",
       "      <td>NaN</td>\n",
       "      <td>0</td>\n",
       "      <td>0</td>\n",
       "      <td>0</td>\n",
       "    </tr>\n",
       "    <tr>\n",
       "      <th>9</th>\n",
       "      <td>excellent</td>\n",
       "      <td>30</td>\n",
       "      <td>female</td>\n",
       "      <td>14</td>\n",
       "      <td>heterosexual or straight</td>\n",
       "      <td>other</td>\n",
       "      <td>black</td>\n",
       "      <td>1</td>\n",
       "      <td>16250.0</td>\n",
       "      <td>0</td>\n",
       "      <td>0</td>\n",
       "      <td>1</td>\n",
       "    </tr>\n",
       "  </tbody>\n",
       "</table>\n",
       "</div>"
      ],
      "text/plain": [
       "      health  age     sex  educ                   sexornt partyid   race  \\\n",
       "0  excellent   53    male    16  heterosexual or straight     rep  white   \n",
       "1  excellent   26  female    16  heterosexual or straight     rep  white   \n",
       "2       good   59    male    13  heterosexual or straight     rep  white   \n",
       "3  excellent   74  female    17  heterosexual or straight   other  white   \n",
       "4       poor   37  female    10  heterosexual or straight   other  white   \n",
       "5  excellent   30  female    15  heterosexual or straight   other  other   \n",
       "6       fair   43  female     5  heterosexual or straight   other  other   \n",
       "7       poor   56    male    11  heterosexual or straight   other  white   \n",
       "8       good   69    male     8  heterosexual or straight   other  white   \n",
       "9  excellent   30  female    14  heterosexual or straight   other  black   \n",
       "\n",
       "   married   income  poorhealth  fairhealth  excellenthealth  \n",
       "0        1  18750.0           0           0                1  \n",
       "1        1  18750.0           0           0                1  \n",
       "2        1      NaN           0           0                0  \n",
       "3        1      NaN           0           0                1  \n",
       "4        0      NaN           1           0                0  \n",
       "5        1  18750.0           0           0                1  \n",
       "6        1      NaN           0           1                0  \n",
       "7        0      NaN           1           0                0  \n",
       "8        1      NaN           0           0                0  \n",
       "9        1  16250.0           0           0                1  "
      ]
     },
     "execution_count": 4,
     "metadata": {},
     "output_type": "execute_result"
    }
   ],
   "source": [
    "gssdata.describe\n",
    "gssdata.head(10)"
   ]
  },
  {
   "cell_type": "markdown",
   "metadata": {},
   "source": [
    "Can you quantify what is the degree of inbalance? Mention a percentage of the split between the positive and the negative class.\n",
    "\n",
    "* What is the majority and the minority class?\n",
    "* What would be the accuracy of a classifier that predicts everybody NOT being in poor health?\n",
    "* Discuss why accuracy is not a good metric."
   ]
  },
  {
   "cell_type": "code",
   "execution_count": 5,
   "metadata": {},
   "outputs": [
    {
     "name": "stdout",
     "output_type": "stream",
     "text": [
      "Value counts: \n",
      "0    1452\n",
      "1      99\n",
      "Name: poorhealth, dtype: int64\n",
      "\n",
      "Pecentages: \n",
      "Positive class: 6%\n",
      "Negative class: 94%\n"
     ]
    },
    {
     "data": {
      "image/png": "[encoded data removed]",
      "text/plain": [
       "<Figure size 432x288 with 1 Axes>"
      ]
     },
     "metadata": {
      "needs_background": "light"
     },
     "output_type": "display_data"
    }
   ],
   "source": [
    "print('Value counts: ')\n",
    "print(gssdata['poorhealth'].value_counts())\n",
    "\n",
    "neg_count = gssdata['poorhealth'].value_counts()[0]\n",
    "pos_count = gssdata['poorhealth'].value_counts()[1]\n",
    "\n",
    "print('\\nPecentages: ')\n",
    "print('Positive class: ' + str(int(round(100 * pos_count / (pos_count + neg_count)))) + '%')\n",
    "print('Negative class: ' + str(int(round(100 * neg_count / (pos_count + neg_count)))) + '%')\n",
    "\n",
    "plot_counts = gssdata['poorhealth'].value_counts().plot(kind=\"bar\")\n",
    "plot_counts.set_xticklabels(['not poor', 'poor'])\n",
    "\n",
    "plt.xlabel('Health Condition')\n",
    "plt.ylabel('Number of People')\n",
    "plt.title('Health Conditions')\n",
    "\n",
    "plt.show()"
   ]
  },
  {
   "cell_type": "markdown",
   "metadata": {},
   "source": [
    "## <font color='green'>ANSWER:</font>\n",
    "1. Our goal is to classify whether the person is in poor health or not. There are 1452 negative examples and 99 positive.\n",
    "This shows that approximately 94% of the data constitutes the negative samples and 6% - the positive. The majority class is the 'individuals with not poor health' and the minority - the 'individuals with poor health'.\n",
    "\n",
    "2. Accuracy for classifier that predicts everybody not beeing in poor health = (TP + TN) / (TP + TN + FP + FN) = (0 + 1452) / (0 + 1452 + 0 + 99) = 1452 / 1551 = 0.93617\n",
    "\n",
    "3. In that sense, accuracy is not a good metric since the dataset is really imbalanced towards the negative class. It generally measures how much of the examples were classified correctly. This is missleading in our problem as most of the data points are negative and the model might learn to predict only one of the classes because of that. A much more precise metric would take into account not only the precision (like the accuracy) but also the recall. It is generally a good idea to pick a metric that focuses on the individuals with poor health as this is the essential goal of our work."
   ]
  },
  {
   "cell_type": "markdown",
   "metadata": {},
   "source": [
    "## Part 2: Fit a logistic model ignoring missing values"
   ]
  },
  {
   "cell_type": "markdown",
   "metadata": {},
   "source": [
    "Let's begin by fitting a logistic regression model to predict poor health based on several of the other predictors in the model. In part 3, you will be asked to regularize (with cross-validation) to make sure you do not overfit, but for this part, we will keep things simple.\n",
    "\n",
    "First, we need to do a small amount of data clean-up (ignoring missingness for now in `income`). Best practice would be to split into train/test first before looking at the data, but again, we can keep it simple in this part."
   ]
  },
  {
   "cell_type": "code",
   "execution_count": 6,
   "metadata": {},
   "outputs": [],
   "source": [
    "#creating dummies two ways\n",
    "gssdata['female'] = 1*(gssdata['sex'] ==  'female')\n",
    "dummy_vars = pd.get_dummies(gssdata[['sexornt','partyid','race']])\n",
    "gssdata = gssdata.join(dummy_vars)"
   ]
  },
  {
   "cell_type": "code",
   "execution_count": 7,
   "metadata": {
    "scrolled": true
   },
   "outputs": [
    {
     "name": "stdout",
     "output_type": "stream",
     "text": [
      "(1551, 23)\n"
     ]
    },
    {
     "data": {
      "text/html": [
       "<div>\n",
       "<style scoped>\n",
       "    .dataframe tbody tr th:only-of-type {\n",
       "        vertical-align: middle;\n",
       "    }\n",
       "\n",
       "    .dataframe tbody tr th {\n",
       "        vertical-align: top;\n",
       "    }\n",
       "\n",
       "    .dataframe thead th {\n",
       "        text-align: right;\n",
       "    }\n",
       "</style>\n",
       "<table border=\"1\" class=\"dataframe\">\n",
       "  <thead>\n",
       "    <tr style=\"text-align: right;\">\n",
       "      <th></th>\n",
       "      <th>health</th>\n",
       "      <th>age</th>\n",
       "      <th>sex</th>\n",
       "      <th>educ</th>\n",
       "      <th>sexornt</th>\n",
       "      <th>partyid</th>\n",
       "      <th>race</th>\n",
       "      <th>married</th>\n",
       "      <th>income</th>\n",
       "      <th>poorhealth</th>\n",
       "      <th>...</th>\n",
       "      <th>sexornt_bisexual</th>\n",
       "      <th>sexornt_dont know</th>\n",
       "      <th>sexornt_heterosexual or straight</th>\n",
       "      <th>sexornt_homosexual or gay</th>\n",
       "      <th>partyid_dem</th>\n",
       "      <th>partyid_other</th>\n",
       "      <th>partyid_rep</th>\n",
       "      <th>race_black</th>\n",
       "      <th>race_other</th>\n",
       "      <th>race_white</th>\n",
       "    </tr>\n",
       "  </thead>\n",
       "  <tbody>\n",
       "    <tr>\n",
       "      <th>0</th>\n",
       "      <td>excellent</td>\n",
       "      <td>53</td>\n",
       "      <td>male</td>\n",
       "      <td>16</td>\n",
       "      <td>heterosexual or straight</td>\n",
       "      <td>rep</td>\n",
       "      <td>white</td>\n",
       "      <td>1</td>\n",
       "      <td>18750.0</td>\n",
       "      <td>0</td>\n",
       "      <td>...</td>\n",
       "      <td>0</td>\n",
       "      <td>0</td>\n",
       "      <td>1</td>\n",
       "      <td>0</td>\n",
       "      <td>0</td>\n",
       "      <td>0</td>\n",
       "      <td>1</td>\n",
       "      <td>0</td>\n",
       "      <td>0</td>\n",
       "      <td>1</td>\n",
       "    </tr>\n",
       "    <tr>\n",
       "      <th>1</th>\n",
       "      <td>excellent</td>\n",
       "      <td>26</td>\n",
       "      <td>female</td>\n",
       "      <td>16</td>\n",
       "      <td>heterosexual or straight</td>\n",
       "      <td>rep</td>\n",
       "      <td>white</td>\n",
       "      <td>1</td>\n",
       "      <td>18750.0</td>\n",
       "      <td>0</td>\n",
       "      <td>...</td>\n",
       "      <td>0</td>\n",
       "      <td>0</td>\n",
       "      <td>1</td>\n",
       "      <td>0</td>\n",
       "      <td>0</td>\n",
       "      <td>0</td>\n",
       "      <td>1</td>\n",
       "      <td>0</td>\n",
       "      <td>0</td>\n",
       "      <td>1</td>\n",
       "    </tr>\n",
       "    <tr>\n",
       "      <th>2</th>\n",
       "      <td>good</td>\n",
       "      <td>59</td>\n",
       "      <td>male</td>\n",
       "      <td>13</td>\n",
       "      <td>heterosexual or straight</td>\n",
       "      <td>rep</td>\n",
       "      <td>white</td>\n",
       "      <td>1</td>\n",
       "      <td>NaN</td>\n",
       "      <td>0</td>\n",
       "      <td>...</td>\n",
       "      <td>0</td>\n",
       "      <td>0</td>\n",
       "      <td>1</td>\n",
       "      <td>0</td>\n",
       "      <td>0</td>\n",
       "      <td>0</td>\n",
       "      <td>1</td>\n",
       "      <td>0</td>\n",
       "      <td>0</td>\n",
       "      <td>1</td>\n",
       "    </tr>\n",
       "    <tr>\n",
       "      <th>3</th>\n",
       "      <td>excellent</td>\n",
       "      <td>74</td>\n",
       "      <td>female</td>\n",
       "      <td>17</td>\n",
       "      <td>heterosexual or straight</td>\n",
       "      <td>other</td>\n",
       "      <td>white</td>\n",
       "      <td>1</td>\n",
       "      <td>NaN</td>\n",
       "      <td>0</td>\n",
       "      <td>...</td>\n",
       "      <td>0</td>\n",
       "      <td>0</td>\n",
       "      <td>1</td>\n",
       "      <td>0</td>\n",
       "      <td>0</td>\n",
       "      <td>1</td>\n",
       "      <td>0</td>\n",
       "      <td>0</td>\n",
       "      <td>0</td>\n",
       "      <td>1</td>\n",
       "    </tr>\n",
       "    <tr>\n",
       "      <th>4</th>\n",
       "      <td>poor</td>\n",
       "      <td>37</td>\n",
       "      <td>female</td>\n",
       "      <td>10</td>\n",
       "      <td>heterosexual or straight</td>\n",
       "      <td>other</td>\n",
       "      <td>white</td>\n",
       "      <td>0</td>\n",
       "      <td>NaN</td>\n",
       "      <td>1</td>\n",
       "      <td>...</td>\n",
       "      <td>0</td>\n",
       "      <td>0</td>\n",
       "      <td>1</td>\n",
       "      <td>0</td>\n",
       "      <td>0</td>\n",
       "      <td>1</td>\n",
       "      <td>0</td>\n",
       "      <td>0</td>\n",
       "      <td>0</td>\n",
       "      <td>1</td>\n",
       "    </tr>\n",
       "  </tbody>\n",
       "</table>\n",
       "<p>5 rows × 23 columns</p>\n",
       "</div>"
      ],
      "text/plain": [
       "      health  age     sex  educ                   sexornt partyid   race  \\\n",
       "0  excellent   53    male    16  heterosexual or straight     rep  white   \n",
       "1  excellent   26  female    16  heterosexual or straight     rep  white   \n",
       "2       good   59    male    13  heterosexual or straight     rep  white   \n",
       "3  excellent   74  female    17  heterosexual or straight   other  white   \n",
       "4       poor   37  female    10  heterosexual or straight   other  white   \n",
       "\n",
       "   married   income  poorhealth     ...      sexornt_bisexual  \\\n",
       "0        1  18750.0           0     ...                     0   \n",
       "1        1  18750.0           0     ...                     0   \n",
       "2        1      NaN           0     ...                     0   \n",
       "3        1      NaN           0     ...                     0   \n",
       "4        0      NaN           1     ...                     0   \n",
       "\n",
       "   sexornt_dont know  sexornt_heterosexual or straight  \\\n",
       "0                  0                                 1   \n",
       "1                  0                                 1   \n",
       "2                  0                                 1   \n",
       "3                  0                                 1   \n",
       "4                  0                                 1   \n",
       "\n",
       "   sexornt_homosexual or gay  partyid_dem  partyid_other  partyid_rep  \\\n",
       "0                          0            0              0            1   \n",
       "1                          0            0              0            1   \n",
       "2                          0            0              0            1   \n",
       "3                          0            0              1            0   \n",
       "4                          0            0              1            0   \n",
       "\n",
       "   race_black  race_other  race_white  \n",
       "0           0           0           1  \n",
       "1           0           0           1  \n",
       "2           0           0           1  \n",
       "3           0           0           1  \n",
       "4           0           0           1  \n",
       "\n",
       "[5 rows x 23 columns]"
      ]
     },
     "execution_count": 7,
     "metadata": {},
     "output_type": "execute_result"
    }
   ],
   "source": [
    "#Let's get a sense of the data we have\n",
    "print(gssdata.shape)\n",
    "gssdata.head()"
   ]
  },
  {
   "cell_type": "markdown",
   "metadata": {},
   "source": [
    "### Looking at missing values"
   ]
  },
  {
   "cell_type": "code",
   "execution_count": 8,
   "metadata": {},
   "outputs": [
    {
     "name": "stdout",
     "output_type": "stream",
     "text": [
      "Missing values:\n",
      "health                                0\n",
      "age                                   0\n",
      "sex                                   0\n",
      "educ                                  0\n",
      "sexornt                               0\n",
      "partyid                               0\n",
      "race                                  0\n",
      "married                               0\n",
      "income                              588\n",
      "poorhealth                            0\n",
      "fairhealth                            0\n",
      "excellenthealth                       0\n",
      "female                                0\n",
      "sexornt_bisexual                      0\n",
      "sexornt_dont know                     0\n",
      "sexornt_heterosexual or straight      0\n",
      "sexornt_homosexual or gay             0\n",
      "partyid_dem                           0\n",
      "partyid_other                         0\n",
      "partyid_rep                           0\n",
      "race_black                            0\n",
      "race_other                            0\n",
      "race_white                            0\n",
      "dtype: int64\n"
     ]
    }
   ],
   "source": [
    "print('Missing values:')\n",
    "print(gssdata.isnull().sum())"
   ]
  },
  {
   "cell_type": "markdown",
   "metadata": {},
   "source": [
    "### Preparing data"
   ]
  },
  {
   "cell_type": "code",
   "execution_count": 9,
   "metadata": {},
   "outputs": [],
   "source": [
    "y_columns = ['poorhealth']\n",
    "X_columns = list(gssdata.columns)\n",
    "[X_columns.remove(x) for x in ['poorhealth', 'sexornt', 'sex', 'health', 'race', 'partyid', 'income']]\n",
    "\n",
    "X, y = gssdata[X_columns].values, gssdata[y_columns].values"
   ]
  },
  {
   "cell_type": "markdown",
   "metadata": {},
   "source": [
    "### Training a Logistic Regression model"
   ]
  },
  {
   "cell_type": "code",
   "execution_count": 10,
   "metadata": {},
   "outputs": [
    {
     "name": "stderr",
     "output_type": "stream",
     "text": [
      "c:\\users\\hmi\\appdata\\local\\programs\\python\\python36\\lib\\site-packages\\sklearn\\utils\\validation.py:760: DataConversionWarning: A column-vector y was passed when a 1d array was expected. Please change the shape of y to (n_samples, ), for example using ravel().\n",
      "  y = column_or_1d(y, warn=True)\n"
     ]
    }
   ],
   "source": [
    "clf = LogisticRegression(max_iter=1000).fit(X, y)"
   ]
  },
  {
   "cell_type": "markdown",
   "metadata": {},
   "source": [
    "### Plotting the confusion matrix"
   ]
  },
  {
   "cell_type": "code",
   "execution_count": 11,
   "metadata": {},
   "outputs": [
    {
     "data": {
      "image/png": "[encoded data removed]",
      "text/plain": [
       "<Figure size 432x288 with 2 Axes>"
      ]
     },
     "metadata": {
      "needs_background": "light"
     },
     "output_type": "display_data"
    }
   ],
   "source": [
    "plot_confusion_matrix(clf, X, y, display_labels=['not poor health', 'poor health'],\n",
    "                     cmap=plt.cm.Blues, normalize='true')\n",
    "\n",
    "plt.xlabel('Confusion Matrix')\n",
    "plt.ylabel('Observed')\n",
    "plt.title('Predicted')\n",
    "\n",
    "plt.show()"
   ]
  },
  {
   "cell_type": "markdown",
   "metadata": {},
   "source": [
    "---"
   ]
  },
  {
   "cell_type": "markdown",
   "metadata": {},
   "source": [
    "## 2a: Handling missingness approach \\#1: remove observations. \n",
    "\n",
    "We do not know how sklearn will treat the missing values (the `NaN`s), so we should do handle them ourselves.  As a base case, let's remove all observations with missingness."
   ]
  },
  {
   "cell_type": "code",
   "execution_count": 12,
   "metadata": {},
   "outputs": [
    {
     "name": "stdout",
     "output_type": "stream",
     "text": [
      "Number of dropped samples:\n",
      "588\n"
     ]
    }
   ],
   "source": [
    "##In the code below: Remove all observations that are not complete\n",
    "##Report on how many samples were dropped.\n",
    "\n",
    "gssdata_full = gssdata.copy()\n",
    "\n",
    "initial_count_datapoints = gssdata_full.shape[0]\n",
    "\n",
    "gssdata_full = gssdata_full.dropna()\n",
    "\n",
    "dropped_count_datapoints = gssdata_full.shape[0]\n",
    "\n",
    "print('Number of dropped samples:')\n",
    "print(initial_count_datapoints - dropped_count_datapoints)"
   ]
  },
  {
   "cell_type": "code",
   "execution_count": 13,
   "metadata": {},
   "outputs": [
    {
     "data": {
      "image/png": "[encoded data removed]",
      "text/plain": [
       "<Figure size 432x288 with 1 Axes>"
      ]
     },
     "metadata": {
      "needs_background": "light"
     },
     "output_type": "display_data"
    }
   ],
   "source": [
    "#Do a quick check to see how dropping observations affected the amount of poor health individuals\n",
    "#Do an appropriate plot to show this (e.g. boxplot)\n",
    "\n",
    "dropped_data = gssdata_full['poorhealth'].value_counts()\n",
    "full_data = gssdata['poorhealth'].value_counts()\n",
    "\n",
    "df = pd.DataFrame({'dropped data': dropped_data,\n",
    "                   'full data': full_data})\n",
    "\n",
    "ax = df.plot.bar(rot=0)\n",
    "ax.set_xticklabels(['not poor', 'poor'])\n",
    "\n",
    "plt.xlabel('Poor health')\n",
    "plt.ylabel('Sample count')\n",
    "plt.title('Amount of poor health individuals')\n",
    "\n",
    "plt.show()"
   ]
  },
  {
   "cell_type": "code",
   "execution_count": 14,
   "metadata": {},
   "outputs": [
    {
     "data": {
      "text/html": [
       "<div>\n",
       "<style scoped>\n",
       "    .dataframe tbody tr th:only-of-type {\n",
       "        vertical-align: middle;\n",
       "    }\n",
       "\n",
       "    .dataframe tbody tr th {\n",
       "        vertical-align: top;\n",
       "    }\n",
       "\n",
       "    .dataframe thead th {\n",
       "        text-align: right;\n",
       "    }\n",
       "</style>\n",
       "<table border=\"1\" class=\"dataframe\">\n",
       "  <thead>\n",
       "    <tr style=\"text-align: right;\">\n",
       "      <th></th>\n",
       "      <th>health</th>\n",
       "      <th>age</th>\n",
       "      <th>sex</th>\n",
       "      <th>educ</th>\n",
       "      <th>sexornt</th>\n",
       "      <th>partyid</th>\n",
       "      <th>race</th>\n",
       "      <th>married</th>\n",
       "      <th>income</th>\n",
       "      <th>poorhealth</th>\n",
       "      <th>...</th>\n",
       "      <th>sexornt_bisexual</th>\n",
       "      <th>sexornt_dont know</th>\n",
       "      <th>sexornt_heterosexual or straight</th>\n",
       "      <th>sexornt_homosexual or gay</th>\n",
       "      <th>partyid_dem</th>\n",
       "      <th>partyid_other</th>\n",
       "      <th>partyid_rep</th>\n",
       "      <th>race_black</th>\n",
       "      <th>race_other</th>\n",
       "      <th>race_white</th>\n",
       "    </tr>\n",
       "  </thead>\n",
       "  <tbody>\n",
       "    <tr>\n",
       "      <th>0</th>\n",
       "      <td>excellent</td>\n",
       "      <td>53</td>\n",
       "      <td>male</td>\n",
       "      <td>16</td>\n",
       "      <td>heterosexual or straight</td>\n",
       "      <td>rep</td>\n",
       "      <td>white</td>\n",
       "      <td>1</td>\n",
       "      <td>18750.0</td>\n",
       "      <td>0</td>\n",
       "      <td>...</td>\n",
       "      <td>0</td>\n",
       "      <td>0</td>\n",
       "      <td>1</td>\n",
       "      <td>0</td>\n",
       "      <td>0</td>\n",
       "      <td>0</td>\n",
       "      <td>1</td>\n",
       "      <td>0</td>\n",
       "      <td>0</td>\n",
       "      <td>1</td>\n",
       "    </tr>\n",
       "    <tr>\n",
       "      <th>1</th>\n",
       "      <td>excellent</td>\n",
       "      <td>26</td>\n",
       "      <td>female</td>\n",
       "      <td>16</td>\n",
       "      <td>heterosexual or straight</td>\n",
       "      <td>rep</td>\n",
       "      <td>white</td>\n",
       "      <td>1</td>\n",
       "      <td>18750.0</td>\n",
       "      <td>0</td>\n",
       "      <td>...</td>\n",
       "      <td>0</td>\n",
       "      <td>0</td>\n",
       "      <td>1</td>\n",
       "      <td>0</td>\n",
       "      <td>0</td>\n",
       "      <td>0</td>\n",
       "      <td>1</td>\n",
       "      <td>0</td>\n",
       "      <td>0</td>\n",
       "      <td>1</td>\n",
       "    </tr>\n",
       "    <tr>\n",
       "      <th>5</th>\n",
       "      <td>excellent</td>\n",
       "      <td>30</td>\n",
       "      <td>female</td>\n",
       "      <td>15</td>\n",
       "      <td>heterosexual or straight</td>\n",
       "      <td>other</td>\n",
       "      <td>other</td>\n",
       "      <td>1</td>\n",
       "      <td>18750.0</td>\n",
       "      <td>0</td>\n",
       "      <td>...</td>\n",
       "      <td>0</td>\n",
       "      <td>0</td>\n",
       "      <td>1</td>\n",
       "      <td>0</td>\n",
       "      <td>0</td>\n",
       "      <td>1</td>\n",
       "      <td>0</td>\n",
       "      <td>0</td>\n",
       "      <td>1</td>\n",
       "      <td>0</td>\n",
       "    </tr>\n",
       "    <tr>\n",
       "      <th>9</th>\n",
       "      <td>excellent</td>\n",
       "      <td>30</td>\n",
       "      <td>female</td>\n",
       "      <td>14</td>\n",
       "      <td>heterosexual or straight</td>\n",
       "      <td>other</td>\n",
       "      <td>black</td>\n",
       "      <td>1</td>\n",
       "      <td>16250.0</td>\n",
       "      <td>0</td>\n",
       "      <td>...</td>\n",
       "      <td>0</td>\n",
       "      <td>0</td>\n",
       "      <td>1</td>\n",
       "      <td>0</td>\n",
       "      <td>0</td>\n",
       "      <td>1</td>\n",
       "      <td>0</td>\n",
       "      <td>1</td>\n",
       "      <td>0</td>\n",
       "      <td>0</td>\n",
       "    </tr>\n",
       "    <tr>\n",
       "      <th>12</th>\n",
       "      <td>good</td>\n",
       "      <td>38</td>\n",
       "      <td>female</td>\n",
       "      <td>15</td>\n",
       "      <td>heterosexual or straight</td>\n",
       "      <td>dem</td>\n",
       "      <td>white</td>\n",
       "      <td>0</td>\n",
       "      <td>18750.0</td>\n",
       "      <td>0</td>\n",
       "      <td>...</td>\n",
       "      <td>0</td>\n",
       "      <td>0</td>\n",
       "      <td>1</td>\n",
       "      <td>0</td>\n",
       "      <td>1</td>\n",
       "      <td>0</td>\n",
       "      <td>0</td>\n",
       "      <td>0</td>\n",
       "      <td>0</td>\n",
       "      <td>1</td>\n",
       "    </tr>\n",
       "  </tbody>\n",
       "</table>\n",
       "<p>5 rows × 23 columns</p>\n",
       "</div>"
      ],
      "text/plain": [
       "       health  age     sex  educ                   sexornt partyid   race  \\\n",
       "0   excellent   53    male    16  heterosexual or straight     rep  white   \n",
       "1   excellent   26  female    16  heterosexual or straight     rep  white   \n",
       "5   excellent   30  female    15  heterosexual or straight   other  other   \n",
       "9   excellent   30  female    14  heterosexual or straight   other  black   \n",
       "12       good   38  female    15  heterosexual or straight     dem  white   \n",
       "\n",
       "    married   income  poorhealth     ...      sexornt_bisexual  \\\n",
       "0         1  18750.0           0     ...                     0   \n",
       "1         1  18750.0           0     ...                     0   \n",
       "5         1  18750.0           0     ...                     0   \n",
       "9         1  16250.0           0     ...                     0   \n",
       "12        0  18750.0           0     ...                     0   \n",
       "\n",
       "    sexornt_dont know  sexornt_heterosexual or straight  \\\n",
       "0                   0                                 1   \n",
       "1                   0                                 1   \n",
       "5                   0                                 1   \n",
       "9                   0                                 1   \n",
       "12                  0                                 1   \n",
       "\n",
       "    sexornt_homosexual or gay  partyid_dem  partyid_other  partyid_rep  \\\n",
       "0                           0            0              0            1   \n",
       "1                           0            0              0            1   \n",
       "5                           0            0              1            0   \n",
       "9                           0            0              1            0   \n",
       "12                          0            1              0            0   \n",
       "\n",
       "    race_black  race_other  race_white  \n",
       "0            0           0           1  \n",
       "1            0           0           1  \n",
       "5            0           1           0  \n",
       "9            1           0           0  \n",
       "12           0           0           1  \n",
       "\n",
       "[5 rows x 23 columns]"
      ]
     },
     "execution_count": 14,
     "metadata": {},
     "output_type": "execute_result"
    }
   ],
   "source": [
    "gssdata_full.head() #<---this should be your final data frame."
   ]
  },
  {
   "cell_type": "code",
   "execution_count": 15,
   "metadata": {},
   "outputs": [
    {
     "data": {
      "text/plain": [
       "((722,), (722, 6), (241,), (241, 6))"
      ]
     },
     "execution_count": 15,
     "metadata": {},
     "output_type": "execute_result"
    }
   ],
   "source": [
    "#Now we will split the data before fitting any models, feel free to change this/adapt this to your taste\n",
    "\n",
    "itrain, itest = train_test_split(range(gssdata_full.shape[0]), test_size=0.25, random_state=42)\n",
    "\n",
    "gsstemp = gssdata_full[['age','educ','female','partyid_dem','partyid_rep','income']]\n",
    "\n",
    "X_train = gsstemp.iloc[itrain, :]\n",
    "X_test = gsstemp.iloc[itest, :]\n",
    "y_train = gssdata_full['poorhealth'].iloc[itrain]\n",
    "y_test = gssdata_full['poorhealth'].iloc[itest]\n",
    "\n",
    "y_train.shape, X_train.shape, y_test.shape, X_test.shape"
   ]
  },
  {
   "cell_type": "code",
   "execution_count": 16,
   "metadata": {},
   "outputs": [],
   "source": [
    "#####################\n",
    "# Your code here: fit a logistic model with C=1000000 and evaluate classification accuracy on the test set.\n",
    "# Then move below to be reminded on the confusion matrix\n",
    "#####################\n",
    "\n",
    "logit = LogisticRegression(C=1_000_000, random_state=42).fit(X_train, y_train)"
   ]
  },
  {
   "cell_type": "code",
   "execution_count": 17,
   "metadata": {},
   "outputs": [
    {
     "data": {
      "image/png": "[encoded data removed]",
      "text/plain": [
       "<Figure size 432x288 with 2 Axes>"
      ]
     },
     "metadata": {
      "needs_background": "light"
     },
     "output_type": "display_data"
    }
   ],
   "source": [
    "plot_confusion_matrix(logit, X_test, y_test, display_labels=['not poor health', 'poor health'],\n",
    "                     cmap=plt.cm.Blues, normalize='true')\n",
    "\n",
    "plt.xlabel('Confusion Matrix')\n",
    "plt.ylabel('Observed')\n",
    "plt.title('Predicted')\n",
    "\n",
    "plt.show()"
   ]
  },
  {
   "cell_type": "code",
   "execution_count": 18,
   "metadata": {},
   "outputs": [
    {
     "name": "stdout",
     "output_type": "stream",
     "text": [
      "Mean accuracy on the given test data and labels:\n",
      "0.975103734439834\n"
     ]
    }
   ],
   "source": [
    "print('Mean accuracy on the given test data and labels:')\n",
    "print(logit.score(X_test, y_test))"
   ]
  },
  {
   "cell_type": "markdown",
   "metadata": {},
   "source": [
    "## Reminder: The Confusion Matrix & Some Useful Functions"
   ]
  },
  {
   "cell_type": "markdown",
   "metadata": {},
   "source": [
    "- the samples that are +ive and the classifier predicts as +ive are called True Positives (TP)\n",
    "- the samples that are -ive and the classifier predicts (wrongly) as +ive are called False Positives (FP)\n",
    "- the samples that are -ive and the classifier predicts as -ive are called True Negatives (TN)\n",
    "- the samples that are +ive and the classifier predicts as -ive are called False Negatives (FN)\n",
    "\n",
    "A classifier produces a confusion matrix which looks like this:\n",
    "\n",
    "![confusionmatrix](./confusionmatrix_360.png)\n",
    "\n",
    "\n",
    "IMPORTANT NOTE: In sklearn, to obtain the confusion matrix in the form above, always have the observed `y` first, i.e.: use as `confusion_matrix(y_true, y_pred)`\n",
    "\n"
   ]
  },
  {
   "cell_type": "code",
   "execution_count": 19,
   "metadata": {
    "scrolled": true
   },
   "outputs": [
    {
     "name": "stdout",
     "output_type": "stream",
     "text": [
      "Confusion matrix:\n",
      "[[235   0]\n",
      " [  6   0]]\n"
     ]
    },
    {
     "data": {
      "image/png": "[encoded data removed]",
      "text/plain": [
       "<Figure size 432x288 with 1 Axes>"
      ]
     },
     "metadata": {
      "needs_background": "light"
     },
     "output_type": "display_data"
    }
   ],
   "source": [
    "print('Confusion matrix:')\n",
    "print(confusion_matrix(y_test,logit.predict(X_test)))\n",
    "\n",
    "yhats = logit.predict_proba(X_train)\n",
    "hist = plt.hist(yhats[:,1])\n",
    "\n",
    "plt.xlabel('Probability')\n",
    "plt.ylabel('Obsevations')\n",
    "plt.title('Distribution of predicted probability for the minority class')\n",
    "\n",
    "plt.show()"
   ]
  },
  {
   "cell_type": "markdown",
   "metadata": {},
   "source": [
    "The following function can be used to create confusion tables with different thresholds (same as we did in the last example of the lecture slides)"
   ]
  },
  {
   "cell_type": "code",
   "execution_count": 20,
   "metadata": {},
   "outputs": [],
   "source": [
    "###manually making confusion table from a different threshold\n",
    "def t_repredict(est, t, xtest):\n",
    "    probs = est.predict_proba(xtest)\n",
    "    p0 = probs[:,0]\n",
    "    p1 = probs[:,1]\n",
    "    ypred = (p1 > t) * 1\n",
    "    return ypred"
   ]
  },
  {
   "cell_type": "code",
   "execution_count": 21,
   "metadata": {},
   "outputs": [
    {
     "name": "stdout",
     "output_type": "stream",
     "text": [
      "Confusion matrix over the test set with threshold = .03\n",
      "[[210  25]\n",
      " [  6   0]]\n",
      "\n",
      "Confusion matrix over the train set with threshold = .03\n",
      "[[639  73]\n",
      " [  6   4]]\n"
     ]
    }
   ],
   "source": [
    "print('Confusion matrix over the test set with threshold = .03')\n",
    "print(confusion_matrix(y_test,t_repredict(logit, .03, X_test)))\n",
    "\n",
    "print('\\nConfusion matrix over the train set with threshold = .03')\n",
    "print(confusion_matrix(y_train,t_repredict(logit, .03, X_train)))"
   ]
  },
  {
   "cell_type": "markdown",
   "metadata": {},
   "source": [
    "The following fuction should create ROC curves for your models, based on the model and the ground truth. Feel free to change it and improve it!"
   ]
  },
  {
   "cell_type": "code",
   "execution_count": 22,
   "metadata": {},
   "outputs": [],
   "source": [
    "#name: name of your model to appear on the figure (can be arbitrary)\n",
    "#clf: the model as you named it - will be used for getting the predictions\n",
    "#ytest, xtest: your test data\n",
    "#skip, labe: steps that control how many points you see in the ROC curve and how many labels are there\n",
    "\n",
    "def make_roc(name, clf, ytest, xtest, ax=None, labe=5, proba=True, skip=0):\n",
    "    initial=False\n",
    "    if not ax:\n",
    "        ax=plt.gca()\n",
    "        initial=True\n",
    "    if proba:#for stuff like logistic regression\n",
    "        fpr, tpr, thresholds=roc_curve(ytest, clf.predict_proba(xtest)[:,1])\n",
    "    else:#for stuff like SVM? (but double-check this pleaseee)\n",
    "        fpr, tpr, thresholds=roc_curve(ytest, clf.decision_function(xtest))\n",
    "    \n",
    "    #this is the single value for the AUC score\n",
    "    roc_auc = auc(fpr, tpr)\n",
    "    \n",
    "    if skip: \n",
    "        l=fpr.shape[0]\n",
    "        ax.plot(fpr[0:l:skip], tpr[0:l:skip], '.-', alpha=0.3, label='ROC curve for %s (area = %0.2f)' % (name, roc_auc))\n",
    "    else:\n",
    "        ax.plot(fpr, tpr, '.-', alpha=0.3, label='ROC curve for %s (area = %0.2f)' % (name, roc_auc))\n",
    "    \n",
    "    label_kwargs = {}\n",
    "    label_kwargs['bbox'] = dict(\n",
    "        boxstyle='round,pad=0.3', alpha=0.2,\n",
    "    )\n",
    "    \n",
    "    #add labels to the curve\n",
    "    if labe!=None:\n",
    "        for k in range(0, fpr.shape[0],labe):\n",
    "            #from https://gist.github.com/podshumok/c1d1c9394335d86255b8\n",
    "            threshold = str(np.round(thresholds[k], 2))\n",
    "            ax.annotate(threshold, (fpr[k], tpr[k]), **label_kwargs)\n",
    "    \n",
    "    if initial:\n",
    "        ax.plot([0, 1], [0, 1], 'k--')\n",
    "        ax.set_xlim([0.0, 1.0])\n",
    "        ax.set_ylim([0.0, 1.05])\n",
    "        ax.set_xlabel('False Positive Rate')\n",
    "        ax.set_ylabel('True Positive Rate')\n",
    "        ax.set_title('ROC')\n",
    "    ax.legend(loc=\"lower right\")\n",
    "    return ax"
   ]
  },
  {
   "cell_type": "code",
   "execution_count": 23,
   "metadata": {},
   "outputs": [
    {
     "data": {
      "image/png": "[encoded data removed]",
      "text/plain": [
       "<Figure size 432x288 with 1 Axes>"
      ]
     },
     "metadata": {
      "needs_background": "light"
     },
     "output_type": "display_data"
    }
   ],
   "source": [
    "#This is how the above function should be used\n",
    "sns.set_context(\"notebook\")\n",
    "ax=make_roc(\"logistic\", logit, y_test, X_test, labe=4, skip=0)"
   ]
  },
  {
   "cell_type": "markdown",
   "metadata": {},
   "source": [
    "## Let's get back the data with missingness\n",
    "\n",
    "It's time to build a model to impute the missing data!"
   ]
  },
  {
   "cell_type": "code",
   "execution_count": 24,
   "metadata": {},
   "outputs": [
    {
     "data": {
      "image/png": "[encoded data removed]",
      "text/plain": [
       "<Figure size 432x288 with 1 Axes>"
      ]
     },
     "metadata": {
      "needs_background": "light"
     },
     "output_type": "display_data"
    }
   ],
   "source": [
    "plt.hist(gssdata_full['income'])\n",
    "\n",
    "plt.xlabel('Income values')\n",
    "plt.ylabel('Obsevations')\n",
    "plt.title('Distribution of income values')\n",
    "\n",
    "plt.show()"
   ]
  },
  {
   "cell_type": "markdown",
   "metadata": {},
   "source": [
    "---"
   ]
  },
  {
   "cell_type": "markdown",
   "metadata": {},
   "source": [
    "## 2b: Handling missingness approach \\#2: impute the mean "
   ]
  },
  {
   "cell_type": "markdown",
   "metadata": {},
   "source": [
    "In your first approach, make a copy of the original data frame and impute the missing values by assuming that every missing value should be replaced by the mean. Make sure to do a histogram as well and compare it with the original!\n",
    "\n",
    "Then fit a model (as before in 2a.) and judge the model accuracy. Use the functions for the ROC curve to establish the result."
   ]
  },
  {
   "cell_type": "code",
   "execution_count": 25,
   "metadata": {},
   "outputs": [],
   "source": [
    "#back to the original data set with missingness, make a copy, and then impute the mean, plot it!\n",
    "\n",
    "gssdata_mean = gssdata.copy()\n",
    "\n",
    "gssdata_mean['income'] = gssdata_mean['income'].fillna(gssdata_mean['income'].mean())"
   ]
  },
  {
   "cell_type": "code",
   "execution_count": 26,
   "metadata": {},
   "outputs": [
    {
     "data": {
      "image/png": "[encoded data removed]",
      "text/plain": [
       "<Figure size 432x288 with 1 Axes>"
      ]
     },
     "metadata": {
      "needs_background": "light"
     },
     "output_type": "display_data"
    }
   ],
   "source": [
    "gssdata_mean['income'].hist(bins=10)\n",
    "\n",
    "plt.xlabel('Income values')\n",
    "plt.ylabel('Observations')\n",
    "plt.title('Income mean distribution')\n",
    "\n",
    "plt.show()"
   ]
  },
  {
   "cell_type": "code",
   "execution_count": 27,
   "metadata": {},
   "outputs": [
    {
     "data": {
      "text/plain": [
       "((1163,), (1163, 6), (388,), (388, 6))"
      ]
     },
     "execution_count": 27,
     "metadata": {},
     "output_type": "execute_result"
    }
   ],
   "source": [
    "itrain, itest = train_test_split(range(gssdata_mean.shape[0]), test_size=0.25, random_state=42)\n",
    "\n",
    "gsstemp = gssdata_mean[['age','educ','female','partyid_dem','partyid_rep','income']]\n",
    "\n",
    "X_train = gsstemp.iloc[itrain, :]\n",
    "X_test = gsstemp.iloc[itest, :]\n",
    "y_train = gssdata_mean['poorhealth'].iloc[itrain]\n",
    "y_test = gssdata_mean['poorhealth'].iloc[itest]\n",
    "\n",
    "y_train.shape, X_train.shape, y_test.shape, X_test.shape"
   ]
  },
  {
   "cell_type": "code",
   "execution_count": 28,
   "metadata": {},
   "outputs": [
    {
     "name": "stdout",
     "output_type": "stream",
     "text": [
      "Mean accuracy on the given test data and labels:\n",
      "0.9149484536082474\n"
     ]
    }
   ],
   "source": [
    "logit_mean = LogisticRegression(C=1_000_000, random_state=42).fit(X_train, y_train)\n",
    "\n",
    "y_pred = logit_mean.predict(X_test)\n",
    "\n",
    "print('Mean accuracy on the given test data and labels:')\n",
    "print(logit_mean.score(X_test, y_test))"
   ]
  },
  {
   "cell_type": "code",
   "execution_count": 29,
   "metadata": {},
   "outputs": [
    {
     "name": "stdout",
     "output_type": "stream",
     "text": [
      "Confusion matrix over the test set with threshold = .08\n",
      "[[278  78]\n",
      " [ 17  15]]\n",
      "\n",
      "Confusion matrix over the train set with threshold = .08\n",
      "[[869 227]\n",
      " [ 29  38]]\n"
     ]
    }
   ],
   "source": [
    "print('Confusion matrix over the test set with threshold = .08')\n",
    "print(confusion_matrix(y_test,t_repredict(logit_mean, .08, X_test)))\n",
    "\n",
    "print('\\nConfusion matrix over the train set with threshold = .08')\n",
    "print(confusion_matrix(y_train,t_repredict(logit_mean, .08, X_train)))"
   ]
  },
  {
   "cell_type": "code",
   "execution_count": 30,
   "metadata": {},
   "outputs": [
    {
     "data": {
      "image/png": "[encoded data removed]",
      "text/plain": [
       "<Figure size 432x288 with 1 Axes>"
      ]
     },
     "metadata": {
      "needs_background": "light"
     },
     "output_type": "display_data"
    }
   ],
   "source": [
    "ax=make_roc(\"logistic\",logit_mean, y_test, X_test, labe=4, skip=0)"
   ]
  },
  {
   "cell_type": "markdown",
   "metadata": {},
   "source": [
    "---"
   ]
  },
  {
   "cell_type": "markdown",
   "metadata": {},
   "source": [
    "## 2c: Handling missingness approach \\#3: impute with a model (linear regression here)"
   ]
  },
  {
   "cell_type": "markdown",
   "metadata": {},
   "source": [
    "The third and most sophisticated approach would be to fit a linear model (multiple regression) to estimate income based on the other features (`age`, `educ`, `sex`, `partyid`). Train this model below and then use it in order to compute the missing values."
   ]
  },
  {
   "cell_type": "code",
   "execution_count": 31,
   "metadata": {},
   "outputs": [
    {
     "data": {
      "text/plain": [
       "((722,), (722, 6), (241,), (241, 6))"
      ]
     },
     "execution_count": 31,
     "metadata": {},
     "output_type": "execute_result"
    }
   ],
   "source": [
    "#use the dataset without NAs here - gssdata_full\n",
    "\n",
    "itrain, itest = train_test_split(range(gssdata_full.shape[0]), test_size=0.25, random_state=42)\n",
    "\n",
    "gsstemp = gssdata_full[['age','educ','female','partyid_dem','partyid_rep', 'partyid_other']]\n",
    "\n",
    "X_train = gsstemp.iloc[itrain, :]\n",
    "X_test = gsstemp.iloc[itest, :]\n",
    "y_train = gssdata_full['income'].iloc[itrain]\n",
    "y_test = gssdata_full['income'].iloc[itest]\n",
    "\n",
    "y_train.shape, X_train.shape, y_test.shape, X_test.shape"
   ]
  },
  {
   "cell_type": "code",
   "execution_count": 32,
   "metadata": {},
   "outputs": [
    {
     "name": "stdout",
     "output_type": "stream",
     "text": [
      "The coefficient of determination R^2 of the prediction:\n",
      "0.17388320934210189\n"
     ]
    }
   ],
   "source": [
    "reg_income = LinearRegression().fit(X_train, y_train)\n",
    "\n",
    "print('The coefficient of determination R^2 of the prediction:')\n",
    "print(reg_income.score(X_test, y_test))"
   ]
  },
  {
   "cell_type": "code",
   "execution_count": 33,
   "metadata": {},
   "outputs": [
    {
     "name": "stdout",
     "output_type": "stream",
     "text": [
      "588 963\n"
     ]
    }
   ],
   "source": [
    "#####################\n",
    "# your code here: \n",
    "# 1. figure out which observations have missing values for income,\n",
    "# 2. create the values you will use for imputation by:\n",
    "#  - calculating (1) the predicted values for the observations with missingness using the linear model \n",
    "# 3. use these values to impute back into the income variable in the missing entries\n",
    "# 4. Do a histogram to see how does that look like\n",
    "#####################\n",
    "\n",
    "missing_income = gssdata[gssdata['income'].isnull()]\n",
    "have_income = gssdata[~gssdata['income'].isnull()]\n",
    "\n",
    "print(missing_income.shape[0], have_income.shape[0])"
   ]
  },
  {
   "cell_type": "code",
   "execution_count": 34,
   "metadata": {},
   "outputs": [
    {
     "name": "stdout",
     "output_type": "stream",
     "text": [
      "Shape of the combined gss data:\n",
      "(1551, 23)\n"
     ]
    }
   ],
   "source": [
    "gsstemp = missing_income[['age','educ','female','partyid_dem','partyid_rep', 'partyid_other']]\n",
    "incomes = reg_income.predict(gsstemp.values)\n",
    "\n",
    "missing_income = missing_income.assign(income=incomes)\n",
    "\n",
    "combined_gss = pd.concat([missing_income, have_income])\n",
    "\n",
    "print('Shape of the combined gss data:')\n",
    "print(combined_gss.shape)"
   ]
  },
  {
   "cell_type": "code",
   "execution_count": 35,
   "metadata": {},
   "outputs": [
    {
     "data": {
      "image/png": "[encoded data removed]",
      "text/plain": [
       "<Figure size 432x288 with 1 Axes>"
      ]
     },
     "metadata": {
      "needs_background": "light"
     },
     "output_type": "display_data"
    }
   ],
   "source": [
    "plt.hist(combined_gss['income'])\n",
    "\n",
    "plt.xlabel('Income values')\n",
    "plt.ylabel('Obsevations')\n",
    "plt.title('Distribution of income values')\n",
    "\n",
    "plt.show()"
   ]
  },
  {
   "cell_type": "code",
   "execution_count": 36,
   "metadata": {},
   "outputs": [
    {
     "name": "stdout",
     "output_type": "stream",
     "text": [
      "Missing values on the combined gss data:\n",
      "health                              0\n",
      "age                                 0\n",
      "sex                                 0\n",
      "educ                                0\n",
      "sexornt                             0\n",
      "partyid                             0\n",
      "race                                0\n",
      "married                             0\n",
      "income                              0\n",
      "poorhealth                          0\n",
      "fairhealth                          0\n",
      "excellenthealth                     0\n",
      "female                              0\n",
      "sexornt_bisexual                    0\n",
      "sexornt_dont know                   0\n",
      "sexornt_heterosexual or straight    0\n",
      "sexornt_homosexual or gay           0\n",
      "partyid_dem                         0\n",
      "partyid_other                       0\n",
      "partyid_rep                         0\n",
      "race_black                          0\n",
      "race_other                          0\n",
      "race_white                          0\n",
      "dtype: int64\n"
     ]
    }
   ],
   "source": [
    "print('Missing values on the combined gss data:')\n",
    "print(combined_gss.isnull().sum())"
   ]
  },
  {
   "cell_type": "markdown",
   "metadata": {},
   "source": [
    "Then fill the missing data with the results you got. You can do that multiple ways, one way to use Python would be the following:"
   ]
  },
  {
   "cell_type": "code",
   "execution_count": 37,
   "metadata": {},
   "outputs": [
    {
     "data": {
      "text/plain": [
       "((1163,), (1163, 6), (388,), (388, 6))"
      ]
     },
     "execution_count": 37,
     "metadata": {},
     "output_type": "execute_result"
    }
   ],
   "source": [
    "#Now we will split the data before fitting any models, feel free to change this/adapt this to your taste\n",
    "\n",
    "itrain, itest = train_test_split(range(combined_gss.shape[0]), test_size=0.25, random_state=42)\n",
    "\n",
    "gsstemp = combined_gss[['age','educ','female','partyid_dem','partyid_rep','income']]\n",
    "\n",
    "X_train = gsstemp.iloc[itrain, :]\n",
    "X_test = gsstemp.iloc[itest, :]\n",
    "y_train = combined_gss['poorhealth'].iloc[itrain]\n",
    "y_test = combined_gss['poorhealth'].iloc[itest]\n",
    "\n",
    "y_train.shape, X_train.shape, y_test.shape, X_test.shape"
   ]
  },
  {
   "cell_type": "code",
   "execution_count": 38,
   "metadata": {},
   "outputs": [
    {
     "name": "stdout",
     "output_type": "stream",
     "text": [
      "Mean accuracy on the given test data and labels:\n",
      "0.9278350515463918\n"
     ]
    }
   ],
   "source": [
    "logit_model = LogisticRegression(C=1_000_000, random_state=42).fit(X_train, y_train)\n",
    "\n",
    "y_pred = logit_model.predict(X_test)\n",
    "\n",
    "print('Mean accuracy on the given test data and labels:')\n",
    "print(logit_model.score(X_test, y_test))"
   ]
  },
  {
   "cell_type": "code",
   "execution_count": 39,
   "metadata": {},
   "outputs": [
    {
     "name": "stdout",
     "output_type": "stream",
     "text": [
      "Confusion matrix over the test set with threshold = .08\n",
      "[[282  78]\n",
      " [ 13  15]]\n",
      "\n",
      "Confusion matrix over the train set with threshold = .08\n",
      "[[846 246]\n",
      " [ 32  39]]\n"
     ]
    }
   ],
   "source": [
    "print('Confusion matrix over the test set with threshold = .08')\n",
    "print(confusion_matrix(y_test,t_repredict(logit_model, .08, X_test)))\n",
    "\n",
    "print('\\nConfusion matrix over the train set with threshold = .08')\n",
    "print(confusion_matrix(y_train,t_repredict(logit_model, .08, X_train)))"
   ]
  },
  {
   "cell_type": "code",
   "execution_count": 40,
   "metadata": {},
   "outputs": [
    {
     "data": {
      "image/png": "[encoded data removed]",
      "text/plain": [
       "<Figure size 432x288 with 1 Axes>"
      ]
     },
     "metadata": {
      "needs_background": "light"
     },
     "output_type": "display_data"
    }
   ],
   "source": [
    "ax=make_roc(\"logistic\", logit_model, y_test, X_test, labe=4, skip=0)"
   ]
  },
  {
   "cell_type": "markdown",
   "metadata": {
    "scrolled": true
   },
   "source": [
    "Which model performs the best when it comes to missing values? Use this cell to report your observations and be critical about them."
   ]
  },
  {
   "cell_type": "markdown",
   "metadata": {},
   "source": [
    "## <font color='green'>ANSWER:</font>"
   ]
  },
  {
   "cell_type": "markdown",
   "metadata": {},
   "source": [
    "During the 2nd part of the assignment we evaluated the performance of 3 models that differ by the way they handle missingness in data:\n",
    "1. Ignore missing income values (NaNs)\n",
    "2. Impute by the mean value\n",
    "3. Impute by multiple regression model\n",
    "\n",
    "One thing to note here is that the main problem within the dataset was not that most of the income values were missing but rather that the dataset was highly imbalanced towards the majority class (people with 'not poor' health). There are many ways to tackle the imbalanced data:\n",
    "1. Use the appropriate evaluation metric\n",
    "2. Undersampling\n",
    "3. Oversampling\n",
    "4. Use K-fold cross-validation (in a right way)\n",
    "5. Ensemble different resampled (undersampling/oversampling) datasets\n",
    "6. Resample using different ratios\n",
    "7. Undersampling/Oversampling using imbalanced-learn\n",
    "    * Undersampling using Tomek Links\n",
    "    * Oversampling using SMOTE (Synthetic Minority Oversampling Technique)\n",
    "8. Class weights in the models\n",
    "9. Regularization\n",
    "\n",
    "As we can see, there are numerous approaches to the imbalance issue and in this notebook we explore the effect of using the appropriate evaluation metric - AUROC (#1), in the next step - K-fold cross-validation and Regularizaion (#4 and #9) and we used a form of putting class weights (#8) when computing the confusion matrix with different thresholds.\n",
    "\n",
    "The three approaches were evaluated using the ROC curve and more specificlly, on the AUROC metric. This allowed for more precise results as it takes into account the true positive rate (TPR) and the false positive rate (FPR). These evluation metrics bring more meaning to our models in that particular case but are not generally better than accuracy!\n",
    "\n",
    "The AUROC results for the previously mentioned models with different missingness handling are as follows:\n",
    "1. Ignore missing income values (NaNs): 0.67\n",
    "2. Impute by the mean value: 0.73\n",
    "3. Impute by multiple regression model: 0.69\n",
    "\n",
    "It seems that the 'impute by mean' approach works best for out current setting (data and problem definition). However, this does not necessarily mean that this imputation would outperform the others in any general task. Moreover, there are many more imputing mechanisms that could potentially lead to a better solution to the health classification task - e.g. we can regard the missing values from the 'income' parameter as an indication that the person has no job. Or maybe we should descretize the income column space into classes [low income, no_income, avg_income and high_income]. All those approaches might lead to larger AUROC. Therefore, we should always do a smart guess on what should be a good approach and try to start from there. Of course, before that happening, it's better to dive deep into the data and its characteristics in the first place. After all, the dataset is the initiator to all those models that have to deal with unbalanced data.\n",
    "\n",
    "As a follow up on this assignment, one could extensively examine the performance on other techniques to tackle not only the 'income' column missingness but also the high imbalance of the data by using the above approaches. This might lead to a very different solution that outperforms the current ones. Moreover, the Logistic Regression is one of the simplest classifiers, so a good idea would be to substitute that with a more powerful machine learning algorithm or go directly for a Deep Neural Network (in that case one should still be careful with the data characteristics and pick an appropriate architecture)."
   ]
  },
  {
   "cell_type": "markdown",
   "metadata": {},
   "source": [
    "---"
   ]
  },
  {
   "cell_type": "markdown",
   "metadata": {},
   "source": [
    "## Part 3: Improving the model.\n",
    "\n",
    "Apply regularization (with cross-validation) to make sure not to overfit to the data and try also different models, like a Decision Tree or a Random Forest. Report on your results for which model handles inbalances in the best way."
   ]
  },
  {
   "cell_type": "markdown",
   "metadata": {},
   "source": [
    "### 3.1 Data preparation"
   ]
  },
  {
   "cell_type": "code",
   "execution_count": 41,
   "metadata": {},
   "outputs": [
    {
     "data": {
      "text/plain": [
       "((1163,), (1163, 6), (388,), (388, 6))"
      ]
     },
     "execution_count": 41,
     "metadata": {},
     "output_type": "execute_result"
    }
   ],
   "source": [
    "#Now we will split the data before fitting any models, feel free to change this/adapt this to your taste\n",
    "itrain, itest = train_test_split(range(combined_gss.shape[0]), test_size=0.25, random_state=42)\n",
    "\n",
    "gsstemp = combined_gss[['age','educ','female','partyid_dem','partyid_rep','income']]\n",
    "\n",
    "X_train = gsstemp.iloc[itrain, :]\n",
    "X_test = gsstemp.iloc[itest, :]\n",
    "y_train = combined_gss['poorhealth'].iloc[itrain]\n",
    "y_test = combined_gss['poorhealth'].iloc[itest]\n",
    "\n",
    "y_train.shape, X_train.shape, y_test.shape, X_test.shape"
   ]
  },
  {
   "cell_type": "markdown",
   "metadata": {},
   "source": [
    "### 3.2 Logistic Regression with cross-validation"
   ]
  },
  {
   "cell_type": "code",
   "execution_count": 42,
   "metadata": {},
   "outputs": [],
   "source": [
    "log_reg_model_cv = LogisticRegressionCV(cv=5, random_state=42).fit(X_train, y_train)"
   ]
  },
  {
   "cell_type": "code",
   "execution_count": 43,
   "metadata": {},
   "outputs": [
    {
     "name": "stdout",
     "output_type": "stream",
     "text": [
      "Mean accuracy on the given test data and labels:\n",
      "0.9278350515463918\n"
     ]
    }
   ],
   "source": [
    "y_pred = log_reg_model_cv.predict(X_test)\n",
    "\n",
    "print('Mean accuracy on the given test data and labels:')\n",
    "print(log_reg_model_cv.score(X_test, y_test))"
   ]
  },
  {
   "cell_type": "code",
   "execution_count": 44,
   "metadata": {},
   "outputs": [
    {
     "name": "stdout",
     "output_type": "stream",
     "text": [
      "Confusion matrix over the test set with threshold = .08\n",
      "[[289  71]\n",
      " [ 13  15]]\n",
      "\n",
      "Confusion matrix over the train set with threshold = .08\n",
      "[[862 230]\n",
      " [ 36  35]]\n"
     ]
    }
   ],
   "source": [
    "print('Confusion matrix over the test set with threshold = .08')\n",
    "print(confusion_matrix(y_test, t_repredict(log_reg_model_cv, .08, X_test)))\n",
    "\n",
    "print('\\nConfusion matrix over the train set with threshold = .08')\n",
    "print(confusion_matrix(y_train, t_repredict(log_reg_model_cv, .08, X_train)))"
   ]
  },
  {
   "cell_type": "code",
   "execution_count": 45,
   "metadata": {},
   "outputs": [
    {
     "data": {
      "image/png": "[encoded data removed]",
      "text/plain": [
       "<Figure size 432x288 with 1 Axes>"
      ]
     },
     "metadata": {
      "needs_background": "light"
     },
     "output_type": "display_data"
    }
   ],
   "source": [
    "ax=make_roc(\"logistic\", logit_model, y_test, X_test, labe=4, skip=0)"
   ]
  },
  {
   "cell_type": "markdown",
   "metadata": {},
   "source": [
    "### 3.3 Logistic Regression with high regularization"
   ]
  },
  {
   "cell_type": "code",
   "execution_count": 46,
   "metadata": {},
   "outputs": [],
   "source": [
    "logit_model = LogisticRegression(C=0.01, penalty='l2', random_state=42).fit(X_train, y_train)"
   ]
  },
  {
   "cell_type": "code",
   "execution_count": 47,
   "metadata": {},
   "outputs": [
    {
     "name": "stdout",
     "output_type": "stream",
     "text": [
      "Mean accuracy on the given test data and labels:\n",
      "0.9252577319587629\n"
     ]
    }
   ],
   "source": [
    "y_pred = logit_model.predict(X_test)\n",
    "\n",
    "print('Mean accuracy on the given test data and labels:')\n",
    "print(logit_model.score(X_test, y_test))"
   ]
  },
  {
   "cell_type": "code",
   "execution_count": 48,
   "metadata": {},
   "outputs": [
    {
     "name": "stdout",
     "output_type": "stream",
     "text": [
      "Confusion matrix over the test set with threshold = .08\n",
      "[[281  79]\n",
      " [ 13  15]]\n",
      "\n",
      "Confusion matrix over the train set with threshold = .08\n",
      "[[830 262]\n",
      " [ 32  39]]\n"
     ]
    }
   ],
   "source": [
    "print('Confusion matrix over the test set with threshold = .08')\n",
    "print(confusion_matrix(y_test, t_repredict(logit_model, .08, X_test)))\n",
    "\n",
    "print('\\nConfusion matrix over the train set with threshold = .08')\n",
    "print(confusion_matrix(y_train, t_repredict(logit_model, .08, X_train)))"
   ]
  },
  {
   "cell_type": "code",
   "execution_count": 49,
   "metadata": {},
   "outputs": [
    {
     "data": {
      "image/png": "[encoded data removed]",
      "text/plain": [
       "<Figure size 432x288 with 1 Axes>"
      ]
     },
     "metadata": {
      "needs_background": "light"
     },
     "output_type": "display_data"
    }
   ],
   "source": [
    "ax=make_roc(\"logistic\", logit_model, y_test, X_test, labe=4, skip=0)"
   ]
  },
  {
   "cell_type": "markdown",
   "metadata": {},
   "source": [
    "### 3.4 Decision Tree Classifier"
   ]
  },
  {
   "cell_type": "code",
   "execution_count": 50,
   "metadata": {},
   "outputs": [],
   "source": [
    "dec_tree_model = DecisionTreeClassifier(random_state=42).fit(X_train, y_train)"
   ]
  },
  {
   "cell_type": "code",
   "execution_count": 51,
   "metadata": {},
   "outputs": [
    {
     "name": "stdout",
     "output_type": "stream",
     "text": [
      "Mean accuracy on the given test data and labels:\n",
      "0.8891752577319587\n"
     ]
    }
   ],
   "source": [
    "y_pred = dec_tree_model.predict(X_test)\n",
    "\n",
    "print('Mean accuracy on the given test data and labels:')\n",
    "print(dec_tree_model.score(X_test, y_test))"
   ]
  },
  {
   "cell_type": "code",
   "execution_count": 52,
   "metadata": {},
   "outputs": [
    {
     "name": "stdout",
     "output_type": "stream",
     "text": [
      "Confusion matrix over the test set with threshold = .08\n",
      "[[338  22]\n",
      " [ 25   3]]\n",
      "\n",
      "Confusion matrix over the train set with threshold = .08\n",
      "[[1082   10]\n",
      " [   0   71]]\n"
     ]
    }
   ],
   "source": [
    "print('Confusion matrix over the test set with threshold = .08')\n",
    "print(confusion_matrix(y_test, t_repredict(dec_tree_model, .08, X_test)))\n",
    "\n",
    "print('\\nConfusion matrix over the train set with threshold = .08')\n",
    "print(confusion_matrix(y_train, t_repredict(dec_tree_model, .08, X_train)))"
   ]
  },
  {
   "cell_type": "code",
   "execution_count": 53,
   "metadata": {},
   "outputs": [
    {
     "data": {
      "image/png": "[encoded data removed]",
      "text/plain": [
       "<Figure size 432x288 with 1 Axes>"
      ]
     },
     "metadata": {
      "needs_background": "light"
     },
     "output_type": "display_data"
    }
   ],
   "source": [
    "ax=make_roc(\"decision tree\", dec_tree_model, y_test, X_test, labe=4, skip=0)"
   ]
  },
  {
   "cell_type": "markdown",
   "metadata": {},
   "source": [
    "### 3.5 Random Forest Classifier"
   ]
  },
  {
   "cell_type": "code",
   "execution_count": 54,
   "metadata": {},
   "outputs": [],
   "source": [
    "rand_forest_model = RandomForestClassifier(random_state=42).fit(X_train, y_train)"
   ]
  },
  {
   "cell_type": "code",
   "execution_count": 55,
   "metadata": {},
   "outputs": [
    {
     "name": "stdout",
     "output_type": "stream",
     "text": [
      "Mean accuracy on the given test data and labels:\n",
      "0.9149484536082474\n"
     ]
    }
   ],
   "source": [
    "y_pred = rand_forest_model.predict(X_test)\n",
    "\n",
    "print('Mean accuracy on the given test data and labels:')\n",
    "print(rand_forest_model.score(X_test, y_test))"
   ]
  },
  {
   "cell_type": "code",
   "execution_count": 56,
   "metadata": {},
   "outputs": [
    {
     "name": "stdout",
     "output_type": "stream",
     "text": [
      "Confusion matrix over the test set with threshold = .08\n",
      "[[295  65]\n",
      " [ 16  12]]\n",
      "\n",
      "Confusion matrix over the train set with threshold = .08\n",
      "[[1017   75]\n",
      " [   0   71]]\n"
     ]
    }
   ],
   "source": [
    "print('Confusion matrix over the test set with threshold = .08')\n",
    "print(confusion_matrix(y_test, t_repredict(rand_forest_model, .08, X_test)))\n",
    "\n",
    "print('\\nConfusion matrix over the train set with threshold = .08')\n",
    "print(confusion_matrix(y_train, t_repredict(rand_forest_model, .08, X_train)))"
   ]
  },
  {
   "cell_type": "code",
   "execution_count": 57,
   "metadata": {},
   "outputs": [
    {
     "data": {
      "image/png": "[encoded data removed]",
      "text/plain": [
       "<Figure size 432x288 with 1 Axes>"
      ]
     },
     "metadata": {
      "needs_background": "light"
     },
     "output_type": "display_data"
    }
   ],
   "source": [
    "ax=make_roc(\"random forest\", rand_forest_model, y_test, X_test, labe=4, skip=0)"
   ]
  },
  {
   "cell_type": "markdown",
   "metadata": {},
   "source": [
    "### 3.6 XGBoost Classifier"
   ]
  },
  {
   "cell_type": "code",
   "execution_count": 58,
   "metadata": {},
   "outputs": [],
   "source": [
    "xgboost_model = XGBClassifier(random_state=42).fit(X_train, y_train)"
   ]
  },
  {
   "cell_type": "code",
   "execution_count": 59,
   "metadata": {},
   "outputs": [
    {
     "name": "stdout",
     "output_type": "stream",
     "text": [
      "Mean accuracy on the given test data and labels:\n",
      "0.9278350515463918\n"
     ]
    }
   ],
   "source": [
    "y_pred = xgboost_model.predict(X_test)\n",
    "\n",
    "print('Mean accuracy on the given test data and labels:')\n",
    "print(xgboost_model.score(X_test, y_test))"
   ]
  },
  {
   "cell_type": "code",
   "execution_count": 60,
   "metadata": {},
   "outputs": [
    {
     "name": "stdout",
     "output_type": "stream",
     "text": [
      "Confusion matrix over the test set with threshold = .08\n",
      "[[288  72]\n",
      " [ 11  17]]\n",
      "\n",
      "Confusion matrix over the train set with threshold = .08\n",
      "[[878 214]\n",
      " [  4  67]]\n"
     ]
    }
   ],
   "source": [
    "print('Confusion matrix over the test set with threshold = .08')\n",
    "print(confusion_matrix(y_test, t_repredict(xgboost_model, .08, X_test)))\n",
    "\n",
    "print('\\nConfusion matrix over the train set with threshold = .08')\n",
    "print(confusion_matrix(y_train, t_repredict(xgboost_model, .08, X_train)))"
   ]
  },
  {
   "cell_type": "code",
   "execution_count": 61,
   "metadata": {},
   "outputs": [
    {
     "data": {
      "image/png": "[encoded data removed]",
      "text/plain": [
       "<Figure size 432x288 with 1 Axes>"
      ]
     },
     "metadata": {
      "needs_background": "light"
     },
     "output_type": "display_data"
    }
   ],
   "source": [
    "ax=make_roc(\"xgboost\", xgboost_model, y_test, X_test, labe=4, skip=0)"
   ]
  },
  {
   "cell_type": "markdown",
   "metadata": {},
   "source": [
    "Your comments go here. Make sure you document and comment on each step of your approach. Also, make sure that you sufficiently comment on the results and be critical. Which approach worked the best? How did they handle missingness?"
   ]
  },
  {
   "cell_type": "markdown",
   "metadata": {},
   "source": [
    "## <font color='green'>ANSWER:</font>"
   ]
  },
  {
   "cell_type": "markdown",
   "metadata": {},
   "source": [
    "The part 3 of this Data Analysis assignment focuses on improving the models using different approaches. Those techniques or new model architectures were introduced above:\n",
    "1. Logistic Regression with cross-validation\n",
    "2. Logistic Regression with high regularization\n",
    "3. Decision Tree classifier\n",
    "4. Random Forest classifier\n",
    "5. XGBoost classifier\n",
    "\n",
    "The reason behind choosing those 5 additional tests lays on the ground of my intention to add variety to our experiments. First of all, we test the performance on KFold cross-validation and regularization (#1 and #2) to observe the behavior of our simple Logistic Regression model. Following, we introduce a rather simple Decision Tree classifier (#3) that is notorious with its inability to handle imbalanced data. Next, we showcase an ensemble model - Random Forest classifier (#4) and realize that such a model could benefit the problem as it involves 'voting' from various submodels. At the end, we focus on the power of a gradient boosting model - XGBoost (#5) to show that gradient boosting is an effective modern machine learning technique that adds on to simple Decision Tree classifiers and ensemble methods. It generalizes other boosting models by allowing optimization of an arbitrary differentiable loss function.\n",
    "\n",
    "The data preparation process included choosing one of the missingness data handling techniques and applying Sklearn's train/test split with random seed on several columns that we used in part 2. We use the model imputed data as this would allow for additional data to come to for the multiple regression model and improve it. This additional complexity will add on to the main model's AUROC score. We also pick the same columns as part 2 for the sake of fair comparison between the approaches.\n",
    "\n",
    "The results of the subsection in terms of the AUROC scores are as follows:\n",
    "1. Logistic Regression with cross-validation: 0.69\n",
    "2. Logistic Regression with high regularization: 0.68\n",
    "3. Decision Tree classifier: 0.52\n",
    "4. Random Forest classifier: 0.70\n",
    "5. XGBoost classifier: 0.77\n",
    "\n",
    "As we can conclude from the results above, the additions to the simple Logistic Regression model added more 'correctness' (#1 and #2). Then, the Decision Tree classifier (#3) proved to be notorious when dealing with highly imbalanced data, scoring very close to random models' performance. Following, the enemble method added more complexity and eventually improved the AUROC score. Finally, the modern powerfull approach that combines the above models' strengths does the best with 0.77 AUROC score even without transforming the imbalanced data.\n",
    "\n",
    "As a conclusion, we would suggest that there might be an enormous amount of models, techniques and approaches to the problems within the data, but one should never focus solely on one of those but do a 'smart guess' and evaluate the performance of many of the suggestions and only then come to a mere approximation of the 'correct' solution."
   ]
  }
 ],
 "metadata": {
  "kernelspec": {
   "display_name": "Python 3",
   "language": "python",
   "name": "python3"
  },
  "language_info": {
   "codemirror_mode": {
    "name": "ipython",
    "version": 3
   },
   "file_extension": ".py",
   "mimetype": "text/x-python",
   "name": "python",
   "nbconvert_exporter": "python",
   "pygments_lexer": "ipython3",
   "version": "3.6.7"
  }
 },
 "nbformat": 4,
 "nbformat_minor": 1
}
