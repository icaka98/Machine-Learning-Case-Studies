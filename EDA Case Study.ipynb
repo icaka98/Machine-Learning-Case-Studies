{
 "cells": [
  {
   "cell_type": "markdown",
   "metadata": {},
   "source": [
    "# KEN3450, Data Analysis, Spring 2020 \n",
    "\n",
    "## Clinic 1: EDA of Movies \n",
    "\n",
    "**Hristo Minkov - i6161227**\n",
    "\n",
    "**Check the honor policy code posted on the portal before reusing code you found online**\n",
    "\n",
    "---"
   ]
  },
  {
   "cell_type": "markdown",
   "metadata": {},
   "source": [
    "# Table of Contents \n",
    "<ol start=\"0\">\n",
    "<li> Learning Goals & Deliverables </li>\n",
    "<li> Loading and Cleaning with Pandas</li>\n",
    "<li> Asking Questions?  </li>\n",
    "<li> EDA  </li>\n",
    "<li> Basic associations  </li>\n",
    "<li> Determining the Most Successful Movies </li>\n",
    "<li> Trends in Popularity of Genres </li>\n",
    "<li> Conclusions\n",
    "</ol>"
   ]
  },
  {
   "cell_type": "markdown",
   "metadata": {},
   "source": [
    "## Learning Goals\n",
    "\n",
    "About 10000 movies were fetched and parsed from [Rotten Tomatoes](https://www.rottentomatoes.com/) website. The \"bestness\" of these books came from a proprietary formula used by Goodreads and published as a list on their web site.\n",
    "\n",
    "Scrapping the data from the website, lead to a tabular format info file presented here as a CSV file. In this clinic we'll clean and further parse the data.  We'll then do some exploratory data analysis to answer questions about these best books and popular genres.  \n",
    "\n",
    "By the end of this clinic, you should be able to:\n",
    "\n",
    "- Load and systematically address missing values, encoded as `NaN` values in our data set, for example, by removing observations associated with these values.\n",
    "- Parse columns in the dataframe to create new dataframe columns.\n",
    "- Create and interpret visualizations to explore the data set\n",
    "\n",
    "Use your notebook to add any comments, results, code, etc. In the end, make sure that all cells are executed properly and everything you need to show is in your (execucted) notebook. You are asked to deliver **only your notebook file, .ipnyb** and nothing else. Enjoy!"
   ]
  },
  {
   "cell_type": "markdown",
   "metadata": {},
   "source": [
    "### Basic EDA workflow\n",
    "\n",
    "(Already discussed, repeated here).\n",
    "\n",
    "The basic workflow is as follows:\n",
    "\n",
    "1. **Build** a DataFrame from the data (ideally, put all data in this object)\n",
    "2. **Clean** the DataFrame. It should have the following properties:\n",
    "    - Each row describes a single object\n",
    "    - Each column describes a property of that object\n",
    "    - Columns are numeric whenever appropriate\n",
    "    - Columns contain atomic properties that cannot be further decomposed\n",
    "3. Explore **global properties**. Use histograms, scatter plots, and aggregation functions to summarize the data.\n",
    "4. Explore **group properties**. Use groupby and small multiples to compare subsets of the data.\n",
    "\n",
    "This process transforms your data into a format which is easier to work with, gives you a basic overview of the data's properties, and likely generates several questions for you to followup in subsequent analysis."
   ]
  },
  {
   "cell_type": "markdown",
   "metadata": {},
   "source": [
    "## Part 1: Loading and Cleaning with Pandas \n",
    "Read in the `movies.csv` file, examine the data, and do any necessary data cleaning.\n",
    "\n",
    "Here is a description of the columns (in order) present in this csv file:\n",
    "\n",
    "```\n",
    "id: a unique identifier for each movie\n",
    "title: the title of the movie\n",
    "cast: name of most recognizeable cast members seperated by a \"|\"\n",
    "director: name of the director (if more than one, different names seperated by a \"|\"\n",
    "runtime: duration of movie in min.\n",
    "genres: categories of the movie seperated by a \"|\"\n",
    "release_date: exact date of the release in the format MM/DD/YY or MM/DD/YYYY\n",
    "users_voted: how many users have cast their vote for this movie\n",
    "rating: average rating for the movie (scale 0-5)\n",
    "release_year: the year of release\n",
    "budget: production costs in US dollars\n",
    "revenue: revenue income in US dollars\n",
    "```\n",
    "\n",
    "Report all the issues you found with the data and how you resolved them.  \n",
    "\n",
    "\n",
    "----"
   ]
  },
  {
   "cell_type": "markdown",
   "metadata": {},
   "source": [
    "Load the appropriate libraries"
   ]
  },
  {
   "cell_type": "code",
   "execution_count": 107,
   "metadata": {},
   "outputs": [],
   "source": [
    "%matplotlib inline\n",
    "import numpy as np\n",
    "import matplotlib.pyplot as plt\n",
    "import pandas as pd\n",
    "import seaborn as sns\n",
    "pd.set_option('display.width', 500)\n",
    "pd.set_option('display.max_columns', 100)"
   ]
  },
  {
   "cell_type": "markdown",
   "metadata": {},
   "source": [
    "### Cleaning: Reading in the data\n",
    "We read in and clean the data from `movies.csv`.  Try directly loading the data from file and see what the dataframe look like. What's the problem with naively loading the data as is? You might want to open the CSV file in Excel or your favorite text editor to see how this dataset is formatted."
   ]
  },
  {
   "cell_type": "code",
   "execution_count": 108,
   "metadata": {},
   "outputs": [
    {
     "data": {
      "text/html": [
       "<div>\n",
       "<style scoped>\n",
       "    .dataframe tbody tr th:only-of-type {\n",
       "        vertical-align: middle;\n",
       "    }\n",
       "\n",
       "    .dataframe tbody tr th {\n",
       "        vertical-align: top;\n",
       "    }\n",
       "\n",
       "    .dataframe thead th {\n",
       "        text-align: right;\n",
       "    }\n",
       "</style>\n",
       "<table border=\"1\" class=\"dataframe\">\n",
       "  <thead>\n",
       "    <tr style=\"text-align: right;\">\n",
       "      <th></th>\n",
       "      <th>id</th>\n",
       "      <th>title</th>\n",
       "      <th>cast</th>\n",
       "      <th>director</th>\n",
       "      <th>runtime</th>\n",
       "      <th>genres</th>\n",
       "      <th>release_date</th>\n",
       "      <th>users_voted</th>\n",
       "      <th>rating</th>\n",
       "      <th>release_year</th>\n",
       "      <th>budget</th>\n",
       "      <th>revenue</th>\n",
       "    </tr>\n",
       "  </thead>\n",
       "  <tbody>\n",
       "    <tr>\n",
       "      <th>0</th>\n",
       "      <td>135397</td>\n",
       "      <td>Jurassic World</td>\n",
       "      <td>Chris Pratt|Bryce Dallas Howard|Irrfan Khan|Vi...</td>\n",
       "      <td>Colin Trevorrow</td>\n",
       "      <td>124</td>\n",
       "      <td>Action|Adventure|Science Fiction|Thriller</td>\n",
       "      <td>06/09/2015</td>\n",
       "      <td>5562</td>\n",
       "      <td>3.25</td>\n",
       "      <td>2015</td>\n",
       "      <td>150000000</td>\n",
       "      <td>1513528810</td>\n",
       "    </tr>\n",
       "    <tr>\n",
       "      <th>1</th>\n",
       "      <td>76341</td>\n",
       "      <td>Mad Max: Fury Road</td>\n",
       "      <td>Tom Hardy|Charlize Theron|Hugh Keays-Byrne|Nic...</td>\n",
       "      <td>George Miller</td>\n",
       "      <td>120</td>\n",
       "      <td>Action|Adventure|Science Fiction|Thriller</td>\n",
       "      <td>5/13/15</td>\n",
       "      <td>6185</td>\n",
       "      <td>3.55</td>\n",
       "      <td>2015</td>\n",
       "      <td>150000000</td>\n",
       "      <td>378436354</td>\n",
       "    </tr>\n",
       "    <tr>\n",
       "      <th>2</th>\n",
       "      <td>262500</td>\n",
       "      <td>Insurgent</td>\n",
       "      <td>Shailene Woodley|Theo James|Kate Winslet|Ansel...</td>\n",
       "      <td>Robert Schwentke</td>\n",
       "      <td>119</td>\n",
       "      <td>Adventure|Science Fiction|Thriller</td>\n",
       "      <td>3/18/15</td>\n",
       "      <td>2480</td>\n",
       "      <td>3.15</td>\n",
       "      <td>2015</td>\n",
       "      <td>110000000</td>\n",
       "      <td>295238201</td>\n",
       "    </tr>\n",
       "    <tr>\n",
       "      <th>3</th>\n",
       "      <td>140607</td>\n",
       "      <td>Star Wars: The Force Awakens</td>\n",
       "      <td>Harrison Ford|Mark Hamill|Carrie Fisher|Adam D...</td>\n",
       "      <td>J.J. Abrams</td>\n",
       "      <td>136</td>\n",
       "      <td>Action|Adventure|Science Fiction|Fantasy</td>\n",
       "      <td>12/15/15</td>\n",
       "      <td>5292</td>\n",
       "      <td>3.75</td>\n",
       "      <td>2015</td>\n",
       "      <td>200000000</td>\n",
       "      <td>2068178225</td>\n",
       "    </tr>\n",
       "    <tr>\n",
       "      <th>4</th>\n",
       "      <td>168259</td>\n",
       "      <td>Furious 7</td>\n",
       "      <td>Vin Diesel|Paul Walker|Jason Statham|Michelle ...</td>\n",
       "      <td>James Wan</td>\n",
       "      <td>137</td>\n",
       "      <td>Action|Crime|Thriller</td>\n",
       "      <td>04/01/2015</td>\n",
       "      <td>2947</td>\n",
       "      <td>3.65</td>\n",
       "      <td>2015</td>\n",
       "      <td>190000000</td>\n",
       "      <td>1506249360</td>\n",
       "    </tr>\n",
       "    <tr>\n",
       "      <th>5</th>\n",
       "      <td>281957</td>\n",
       "      <td>The Revenant</td>\n",
       "      <td>Leonardo DiCaprio|Tom Hardy|Will Poulter|Domhn...</td>\n",
       "      <td>Alejandro GonzÃ¡lez IÃ±Ã¡rritu</td>\n",
       "      <td>156</td>\n",
       "      <td>Western|Drama|Adventure|Thriller</td>\n",
       "      <td>12/25/15</td>\n",
       "      <td>3929</td>\n",
       "      <td>3.60</td>\n",
       "      <td>2015</td>\n",
       "      <td>135000000</td>\n",
       "      <td>532950503</td>\n",
       "    </tr>\n",
       "    <tr>\n",
       "      <th>6</th>\n",
       "      <td>87101</td>\n",
       "      <td>Terminator Genisys</td>\n",
       "      <td>Arnold Schwarzenegger|Jason Clarke|Emilia Clar...</td>\n",
       "      <td>Alan Taylor</td>\n",
       "      <td>125</td>\n",
       "      <td>Science Fiction|Action|Thriller|Adventure</td>\n",
       "      <td>6/23/15</td>\n",
       "      <td>2598</td>\n",
       "      <td>2.90</td>\n",
       "      <td>2015</td>\n",
       "      <td>155000000</td>\n",
       "      <td>440603537</td>\n",
       "    </tr>\n",
       "    <tr>\n",
       "      <th>7</th>\n",
       "      <td>286217</td>\n",
       "      <td>The Martian</td>\n",
       "      <td>Matt Damon|Jessica Chastain|Kristen Wiig|Jeff ...</td>\n",
       "      <td>Ridley Scott</td>\n",
       "      <td>141</td>\n",
       "      <td>Drama|Adventure|Science Fiction</td>\n",
       "      <td>9/30/15</td>\n",
       "      <td>4572</td>\n",
       "      <td>3.80</td>\n",
       "      <td>2015</td>\n",
       "      <td>108000000</td>\n",
       "      <td>595380321</td>\n",
       "    </tr>\n",
       "    <tr>\n",
       "      <th>8</th>\n",
       "      <td>211672</td>\n",
       "      <td>Minions</td>\n",
       "      <td>Sandra Bullock|Jon Hamm|Michael Keaton|Allison...</td>\n",
       "      <td>Kyle Balda|Pierre Coffin</td>\n",
       "      <td>91</td>\n",
       "      <td>Family|Animation|Adventure|Comedy</td>\n",
       "      <td>6/17/15</td>\n",
       "      <td>2893</td>\n",
       "      <td>3.25</td>\n",
       "      <td>2015</td>\n",
       "      <td>74000000</td>\n",
       "      <td>1156730962</td>\n",
       "    </tr>\n",
       "    <tr>\n",
       "      <th>9</th>\n",
       "      <td>150540</td>\n",
       "      <td>Inside Out</td>\n",
       "      <td>Amy Poehler|Phyllis Smith|Richard Kind|Bill Ha...</td>\n",
       "      <td>Pete Docter</td>\n",
       "      <td>94</td>\n",
       "      <td>Comedy|Animation|Family</td>\n",
       "      <td>06/09/2015</td>\n",
       "      <td>3935</td>\n",
       "      <td>4.00</td>\n",
       "      <td>2015</td>\n",
       "      <td>175000000</td>\n",
       "      <td>853708609</td>\n",
       "    </tr>\n",
       "  </tbody>\n",
       "</table>\n",
       "</div>"
      ],
      "text/plain": [
       "       id                         title                                               cast                        director  runtime                                     genres release_date  users_voted  rating  release_year     budget     revenue\n",
       "0  135397                Jurassic World  Chris Pratt|Bryce Dallas Howard|Irrfan Khan|Vi...                 Colin Trevorrow      124  Action|Adventure|Science Fiction|Thriller   06/09/2015         5562    3.25          2015  150000000  1513528810\n",
       "1   76341            Mad Max: Fury Road  Tom Hardy|Charlize Theron|Hugh Keays-Byrne|Nic...                   George Miller      120  Action|Adventure|Science Fiction|Thriller      5/13/15         6185    3.55          2015  150000000   378436354\n",
       "2  262500                     Insurgent  Shailene Woodley|Theo James|Kate Winslet|Ansel...                Robert Schwentke      119         Adventure|Science Fiction|Thriller      3/18/15         2480    3.15          2015  110000000   295238201\n",
       "3  140607  Star Wars: The Force Awakens  Harrison Ford|Mark Hamill|Carrie Fisher|Adam D...                     J.J. Abrams      136   Action|Adventure|Science Fiction|Fantasy     12/15/15         5292    3.75          2015  200000000  2068178225\n",
       "4  168259                     Furious 7  Vin Diesel|Paul Walker|Jason Statham|Michelle ...                       James Wan      137                      Action|Crime|Thriller   04/01/2015         2947    3.65          2015  190000000  1506249360\n",
       "5  281957                  The Revenant  Leonardo DiCaprio|Tom Hardy|Will Poulter|Domhn...  Alejandro GonzÃ¡lez IÃ±Ã¡rritu      156           Western|Drama|Adventure|Thriller     12/25/15         3929    3.60          2015  135000000   532950503\n",
       "6   87101            Terminator Genisys  Arnold Schwarzenegger|Jason Clarke|Emilia Clar...                     Alan Taylor      125  Science Fiction|Action|Thriller|Adventure      6/23/15         2598    2.90          2015  155000000   440603537\n",
       "7  286217                   The Martian  Matt Damon|Jessica Chastain|Kristen Wiig|Jeff ...                    Ridley Scott      141            Drama|Adventure|Science Fiction      9/30/15         4572    3.80          2015  108000000   595380321\n",
       "8  211672                       Minions  Sandra Bullock|Jon Hamm|Michael Keaton|Allison...        Kyle Balda|Pierre Coffin       91          Family|Animation|Adventure|Comedy      6/17/15         2893    3.25          2015   74000000  1156730962\n",
       "9  150540                    Inside Out  Amy Poehler|Phyllis Smith|Richard Kind|Bill Ha...                     Pete Docter       94                    Comedy|Animation|Family   06/09/2015         3935    4.00          2015  175000000   853708609"
      ]
     },
     "execution_count": 108,
     "metadata": {},
     "output_type": "execute_result"
    }
   ],
   "source": [
    "#Read the data into a dataframe\n",
    "df = pd.read_csv(\"movies.csv\")\n",
    "\n",
    "#Examine the first couple of rows of the dataframe\n",
    "df.head(10)"
   ]
  },
  {
   "cell_type": "markdown",
   "metadata": {},
   "source": [
    "Lets read the csv file and add custom column descriptions specified in the problem statement. Check the documentation of `read_csv` to see how you can do that."
   ]
  },
  {
   "cell_type": "markdown",
   "metadata": {},
   "source": [
    "## Answer:\n",
    "All column names are sufficiently descriptive. Therefore, there is no need to rename any column. One obvious issue in the data is that the release date is in different formats (MM/DD/YY or MM/DD/YYYY). This might cause some problems, so we should reformat it later at the cleaning step. Another remark - there is data duplication: the information regarding the release_year can be inferred from the release_date column. There exist several solutions to the problem:\n",
    "1. Leaving it as it is since the movies can easily be sorted by date and there is quick access to the release_year characteristic of the movie\n",
    "2. Splitting the release_date data into 3 fields - release_day, release_month and release_year. However, sorting by release date would not be straightforward anymore.\n",
    "3. The best solution that I would choose is to remove the release year information in the release_date column. Then, we can sort the data points easier by first sorting the release_year and following - the release_date. Using this technique, we will get rid of the data duplication and the wrong date format of the release_date column at the same time."
   ]
  },
  {
   "cell_type": "markdown",
   "metadata": {},
   "source": [
    "### Cleaning: Examing the dataframe - quick checks\n",
    "\n",
    "We should examine the dataframe to get a overall sense of the content. "
   ]
  },
  {
   "cell_type": "code",
   "execution_count": 109,
   "metadata": {},
   "outputs": [
    {
     "name": "stdout",
     "output_type": "stream",
     "text": [
      "Column types of the dataframe:\n",
      "\n",
      "id                int64\n",
      "title            object\n",
      "cast             object\n",
      "director         object\n",
      "runtime           int64\n",
      "genres           object\n",
      "release_date     object\n",
      "users_voted       int64\n",
      "rating          float64\n",
      "release_year      int64\n",
      "budget            int64\n",
      "revenue           int64\n",
      "dtype: object\n"
     ]
    }
   ],
   "source": [
    "#Start by check the column data types, do they correspond to what they should be\n",
    "#e.g. quantitative variables that are not quantitative, etc.)\n",
    "\n",
    "print('Column types of the dataframe:\\n')\n",
    "print(df.dtypes)"
   ]
  },
  {
   "cell_type": "markdown",
   "metadata": {},
   "source": [
    "## Answer:\n",
    "All columns appear to have the correct data types."
   ]
  },
  {
   "cell_type": "markdown",
   "metadata": {},
   "source": [
    "Do a couple more quick sanity checks to perform on the dataframe."
   ]
  },
  {
   "cell_type": "code",
   "execution_count": 110,
   "metadata": {},
   "outputs": [
    {
     "name": "stdout",
     "output_type": "stream",
     "text": [
      "Dataframe size:\n",
      "130392\n",
      "\n",
      "Dataframe dimensions:\n",
      "(10866, 12)\n",
      "\n",
      "Dataframe quantative variables statistics:\n",
      "                  id       runtime   users_voted        rating  release_year        budget       revenue\n",
      "count   10866.000000  10866.000000  10866.000000  10861.000000  10866.000000  1.086600e+04  1.086600e+04\n",
      "mean    66064.177434    102.070863    217.389748      2.987386   2001.322658  1.462570e+07  3.982332e+07\n",
      "std     92130.136561     31.381405    575.619058      0.467639     12.812941  3.091321e+07  1.170035e+08\n",
      "min         5.000000      0.000000     10.000000      0.750000   1960.000000  0.000000e+00  0.000000e+00\n",
      "25%     10596.250000     90.000000     17.000000      2.700000   1995.000000  0.000000e+00  0.000000e+00\n",
      "50%     20669.000000     99.000000     38.000000      3.000000   2006.000000  0.000000e+00  0.000000e+00\n",
      "75%     75610.000000    111.000000    145.750000      3.300000   2011.000000  1.500000e+07  2.400000e+07\n",
      "max    417859.000000    900.000000   9767.000000      4.600000   2015.000000  4.250000e+08  2.781506e+09\n"
     ]
    }
   ],
   "source": [
    "#Come up with a few other important properties of the dataframe to check\n",
    "#e.g. check the dimensions?\n",
    "\n",
    "print('Dataframe size:')\n",
    "print(df.size)\n",
    "\n",
    "print('\\nDataframe dimensions:')\n",
    "print(df.shape)\n",
    "\n",
    "print('\\nDataframe quantative variables statistics:')\n",
    "print(df.describe())"
   ]
  },
  {
   "cell_type": "markdown",
   "metadata": {},
   "source": [
    "Was the data read correctly and values represented as we expected?"
   ]
  },
  {
   "cell_type": "markdown",
   "metadata": {},
   "source": [
    "## Answer:\n",
    "The data was read correctly and all the checks provide the correct information. Few notes however:\n",
    "1. The runtime column seems to have several outliers as the min duration of the movie goes down to 0 and the max - 900. A 15 hour movie should be considered an outlier as well as the movie with no duration.\n",
    "2. Good thing to note here is that the dataframe contains plenty of movies between 1960 and 2015, so we should not expect a film outside this period.\n",
    "3. The budget and revenue fields appear to have many 0s as values. We should substitute either remove the 0s from our further measurements and visualizations or substitute the 0s with the mean value for the respective column.\n",
    "\n",
    "Either case, this segment is dedicated to the dataframe examination, so no further actions are executed yet."
   ]
  },
  {
   "cell_type": "markdown",
   "metadata": {},
   "source": [
    "### Cleaning: Examining the dataframe - a deeper look"
   ]
  },
  {
   "cell_type": "markdown",
   "metadata": {},
   "source": [
    "Beyond performing checking some quick general properties of the data frame and looking at the first $n$ rows, we can dig a bit deeper into the values being stored. If you haven't already, check to see if there are any missing values (NA or Nan or other?) in the data frame."
   ]
  },
  {
   "cell_type": "code",
   "execution_count": 111,
   "metadata": {},
   "outputs": [
    {
     "name": "stdout",
     "output_type": "stream",
     "text": [
      "Total number of missing values:\n",
      "148\n",
      "\n",
      "Number of missing values per column:\n",
      "id               0\n",
      "title            0\n",
      "cast            76\n",
      "director        44\n",
      "runtime          0\n",
      "genres          23\n",
      "release_date     0\n",
      "users_voted      0\n",
      "rating           5\n",
      "release_year     0\n",
      "budget           0\n",
      "revenue          0\n",
      "dtype: int64\n"
     ]
    }
   ],
   "source": [
    "#Get a sense of how many missing values there are in the dataframe.\n",
    "#You might want to try to do it per column since that might give you some more intuition.\n",
    "#Try to locate where the missing values occur\n",
    "\n",
    "print('Total number of missing values:')\n",
    "print(df.isnull().sum().sum())\n",
    "\n",
    "print('\\nNumber of missing values per column:')\n",
    "print(df.isnull().sum())"
   ]
  },
  {
   "cell_type": "code",
   "execution_count": 112,
   "metadata": {},
   "outputs": [
    {
     "name": "stdout",
     "output_type": "stream",
     "text": [
      "Examples of missing 'director' values:\n"
     ]
    },
    {
     "data": {
      "text/html": [
       "<div>\n",
       "<style scoped>\n",
       "    .dataframe tbody tr th:only-of-type {\n",
       "        vertical-align: middle;\n",
       "    }\n",
       "\n",
       "    .dataframe tbody tr th {\n",
       "        vertical-align: top;\n",
       "    }\n",
       "\n",
       "    .dataframe thead th {\n",
       "        text-align: right;\n",
       "    }\n",
       "</style>\n",
       "<table border=\"1\" class=\"dataframe\">\n",
       "  <thead>\n",
       "    <tr style=\"text-align: right;\">\n",
       "      <th></th>\n",
       "      <th>id</th>\n",
       "      <th>title</th>\n",
       "      <th>cast</th>\n",
       "      <th>director</th>\n",
       "      <th>runtime</th>\n",
       "      <th>genres</th>\n",
       "      <th>release_date</th>\n",
       "      <th>users_voted</th>\n",
       "      <th>rating</th>\n",
       "      <th>release_year</th>\n",
       "      <th>budget</th>\n",
       "      <th>revenue</th>\n",
       "    </tr>\n",
       "  </thead>\n",
       "  <tbody>\n",
       "    <tr>\n",
       "      <th>532</th>\n",
       "      <td>320996</td>\n",
       "      <td>Iliza Shlesinger: Freezing Hot</td>\n",
       "      <td>Iliza Shlesinger</td>\n",
       "      <td>NaN</td>\n",
       "      <td>71</td>\n",
       "      <td>Comedy</td>\n",
       "      <td>1/23/15</td>\n",
       "      <td>14</td>\n",
       "      <td>3.30</td>\n",
       "      <td>2015</td>\n",
       "      <td>0</td>\n",
       "      <td>0</td>\n",
       "    </tr>\n",
       "    <tr>\n",
       "      <th>548</th>\n",
       "      <td>355131</td>\n",
       "      <td>Sense8: Creating the World</td>\n",
       "      <td>Tuppence Middleton|Bae Doona |Brian J. Smith|A...</td>\n",
       "      <td>NaN</td>\n",
       "      <td>25</td>\n",
       "      <td>Documentary|Science Fiction</td>\n",
       "      <td>08/10/2015</td>\n",
       "      <td>12</td>\n",
       "      <td>3.75</td>\n",
       "      <td>2015</td>\n",
       "      <td>0</td>\n",
       "      <td>0</td>\n",
       "    </tr>\n",
       "    <tr>\n",
       "      <th>556</th>\n",
       "      <td>321160</td>\n",
       "      <td>With This Ring</td>\n",
       "      <td>Regina Hall|Jill Scott|Eve|Brooklyn Sudano|Dei...</td>\n",
       "      <td>NaN</td>\n",
       "      <td>105</td>\n",
       "      <td>Comedy|Romance</td>\n",
       "      <td>1/24/15</td>\n",
       "      <td>14</td>\n",
       "      <td>3.25</td>\n",
       "      <td>2015</td>\n",
       "      <td>0</td>\n",
       "      <td>0</td>\n",
       "    </tr>\n",
       "    <tr>\n",
       "      <th>1032</th>\n",
       "      <td>259910</td>\n",
       "      <td>Marvel Studios: Assembling a Universe</td>\n",
       "      <td>Robert Downey Jr.|Chris Hemsworth|Chris Evans|...</td>\n",
       "      <td>NaN</td>\n",
       "      <td>43</td>\n",
       "      <td>TV Movie|Documentary</td>\n",
       "      <td>3/18/14</td>\n",
       "      <td>32</td>\n",
       "      <td>3.15</td>\n",
       "      <td>2014</td>\n",
       "      <td>0</td>\n",
       "      <td>0</td>\n",
       "    </tr>\n",
       "    <tr>\n",
       "      <th>1054</th>\n",
       "      <td>253675</td>\n",
       "      <td>Unlocking Sherlock</td>\n",
       "      <td>Benedict Cumberbatch|Martin Freeman|Steven Mof...</td>\n",
       "      <td>NaN</td>\n",
       "      <td>60</td>\n",
       "      <td>TV Movie|Documentary</td>\n",
       "      <td>1/19/14</td>\n",
       "      <td>11</td>\n",
       "      <td>3.60</td>\n",
       "      <td>2014</td>\n",
       "      <td>0</td>\n",
       "      <td>0</td>\n",
       "    </tr>\n",
       "  </tbody>\n",
       "</table>\n",
       "</div>"
      ],
      "text/plain": [
       "          id                                  title                                               cast director  runtime                       genres release_date  users_voted  rating  release_year  budget  revenue\n",
       "532   320996         Iliza Shlesinger: Freezing Hot                                   Iliza Shlesinger      NaN       71                       Comedy      1/23/15           14    3.30          2015       0        0\n",
       "548   355131             Sense8: Creating the World  Tuppence Middleton|Bae Doona |Brian J. Smith|A...      NaN       25  Documentary|Science Fiction   08/10/2015           12    3.75          2015       0        0\n",
       "556   321160                         With This Ring  Regina Hall|Jill Scott|Eve|Brooklyn Sudano|Dei...      NaN      105               Comedy|Romance      1/24/15           14    3.25          2015       0        0\n",
       "1032  259910  Marvel Studios: Assembling a Universe  Robert Downey Jr.|Chris Hemsworth|Chris Evans|...      NaN       43         TV Movie|Documentary      3/18/14           32    3.15          2014       0        0\n",
       "1054  253675                     Unlocking Sherlock  Benedict Cumberbatch|Martin Freeman|Steven Mof...      NaN       60         TV Movie|Documentary      1/19/14           11    3.60          2014       0        0"
      ]
     },
     "execution_count": 112,
     "metadata": {},
     "output_type": "execute_result"
    }
   ],
   "source": [
    "print('Examples of missing \\'director\\' values:')\n",
    "df[pd.isnull(df['director'])].head(5)"
   ]
  },
  {
   "cell_type": "code",
   "execution_count": 113,
   "metadata": {},
   "outputs": [
    {
     "name": "stdout",
     "output_type": "stream",
     "text": [
      "Examples of missing 'cast' values:\n"
     ]
    },
    {
     "data": {
      "text/html": [
       "<div>\n",
       "<style scoped>\n",
       "    .dataframe tbody tr th:only-of-type {\n",
       "        vertical-align: middle;\n",
       "    }\n",
       "\n",
       "    .dataframe tbody tr th {\n",
       "        vertical-align: top;\n",
       "    }\n",
       "\n",
       "    .dataframe thead th {\n",
       "        text-align: right;\n",
       "    }\n",
       "</style>\n",
       "<table border=\"1\" class=\"dataframe\">\n",
       "  <thead>\n",
       "    <tr style=\"text-align: right;\">\n",
       "      <th></th>\n",
       "      <th>id</th>\n",
       "      <th>title</th>\n",
       "      <th>cast</th>\n",
       "      <th>director</th>\n",
       "      <th>runtime</th>\n",
       "      <th>genres</th>\n",
       "      <th>release_date</th>\n",
       "      <th>users_voted</th>\n",
       "      <th>rating</th>\n",
       "      <th>release_year</th>\n",
       "      <th>budget</th>\n",
       "      <th>revenue</th>\n",
       "    </tr>\n",
       "  </thead>\n",
       "  <tbody>\n",
       "    <tr>\n",
       "      <th>371</th>\n",
       "      <td>345637</td>\n",
       "      <td>Sanjay's Super Team</td>\n",
       "      <td>NaN</td>\n",
       "      <td>Sanjay Patel</td>\n",
       "      <td>7</td>\n",
       "      <td>Animation</td>\n",
       "      <td>11/25/15</td>\n",
       "      <td>47</td>\n",
       "      <td>3.45</td>\n",
       "      <td>2015</td>\n",
       "      <td>0</td>\n",
       "      <td>0</td>\n",
       "    </tr>\n",
       "    <tr>\n",
       "      <th>441</th>\n",
       "      <td>355020</td>\n",
       "      <td>Winter on Fire: Ukraine's Fight for Freedom</td>\n",
       "      <td>NaN</td>\n",
       "      <td>Evgeny Afineevsky</td>\n",
       "      <td>98</td>\n",
       "      <td>Documentary</td>\n",
       "      <td>10/09/2015</td>\n",
       "      <td>37</td>\n",
       "      <td>4.10</td>\n",
       "      <td>2015</td>\n",
       "      <td>0</td>\n",
       "      <td>0</td>\n",
       "    </tr>\n",
       "    <tr>\n",
       "      <th>465</th>\n",
       "      <td>321109</td>\n",
       "      <td>Bitter Lake</td>\n",
       "      <td>NaN</td>\n",
       "      <td>Adam Curtis</td>\n",
       "      <td>135</td>\n",
       "      <td>Documentary</td>\n",
       "      <td>1/24/15</td>\n",
       "      <td>19</td>\n",
       "      <td>3.90</td>\n",
       "      <td>2015</td>\n",
       "      <td>0</td>\n",
       "      <td>0</td>\n",
       "    </tr>\n",
       "    <tr>\n",
       "      <th>536</th>\n",
       "      <td>333350</td>\n",
       "      <td>A Faster Horse</td>\n",
       "      <td>NaN</td>\n",
       "      <td>David Gelb</td>\n",
       "      <td>90</td>\n",
       "      <td>Documentary</td>\n",
       "      <td>10/08/2015</td>\n",
       "      <td>12</td>\n",
       "      <td>4.00</td>\n",
       "      <td>2015</td>\n",
       "      <td>0</td>\n",
       "      <td>0</td>\n",
       "    </tr>\n",
       "    <tr>\n",
       "      <th>538</th>\n",
       "      <td>224972</td>\n",
       "      <td>The Mask You Live In</td>\n",
       "      <td>NaN</td>\n",
       "      <td>Jennifer Siebel Newsom</td>\n",
       "      <td>88</td>\n",
       "      <td>Documentary</td>\n",
       "      <td>01/01/2015</td>\n",
       "      <td>11</td>\n",
       "      <td>4.45</td>\n",
       "      <td>2015</td>\n",
       "      <td>0</td>\n",
       "      <td>0</td>\n",
       "    </tr>\n",
       "  </tbody>\n",
       "</table>\n",
       "</div>"
      ],
      "text/plain": [
       "         id                                        title cast                director  runtime       genres release_date  users_voted  rating  release_year  budget  revenue\n",
       "371  345637                          Sanjay's Super Team  NaN            Sanjay Patel        7    Animation     11/25/15           47    3.45          2015       0        0\n",
       "441  355020  Winter on Fire: Ukraine's Fight for Freedom  NaN       Evgeny Afineevsky       98  Documentary   10/09/2015           37    4.10          2015       0        0\n",
       "465  321109                                  Bitter Lake  NaN             Adam Curtis      135  Documentary      1/24/15           19    3.90          2015       0        0\n",
       "536  333350                               A Faster Horse  NaN              David Gelb       90  Documentary   10/08/2015           12    4.00          2015       0        0\n",
       "538  224972                         The Mask You Live In  NaN  Jennifer Siebel Newsom       88  Documentary   01/01/2015           11    4.45          2015       0        0"
      ]
     },
     "execution_count": 113,
     "metadata": {},
     "output_type": "execute_result"
    }
   ],
   "source": [
    "print('Examples of missing \\'cast\\' values:')\n",
    "df[pd.isnull(df['cast'])].head(5)"
   ]
  },
  {
   "cell_type": "code",
   "execution_count": 114,
   "metadata": {},
   "outputs": [
    {
     "name": "stdout",
     "output_type": "stream",
     "text": [
      "Examples of missing 'genres' values:\n"
     ]
    },
    {
     "data": {
      "text/html": [
       "<div>\n",
       "<style scoped>\n",
       "    .dataframe tbody tr th:only-of-type {\n",
       "        vertical-align: middle;\n",
       "    }\n",
       "\n",
       "    .dataframe tbody tr th {\n",
       "        vertical-align: top;\n",
       "    }\n",
       "\n",
       "    .dataframe thead th {\n",
       "        text-align: right;\n",
       "    }\n",
       "</style>\n",
       "<table border=\"1\" class=\"dataframe\">\n",
       "  <thead>\n",
       "    <tr style=\"text-align: right;\">\n",
       "      <th></th>\n",
       "      <th>id</th>\n",
       "      <th>title</th>\n",
       "      <th>cast</th>\n",
       "      <th>director</th>\n",
       "      <th>runtime</th>\n",
       "      <th>genres</th>\n",
       "      <th>release_date</th>\n",
       "      <th>users_voted</th>\n",
       "      <th>rating</th>\n",
       "      <th>release_year</th>\n",
       "      <th>budget</th>\n",
       "      <th>revenue</th>\n",
       "    </tr>\n",
       "  </thead>\n",
       "  <tbody>\n",
       "    <tr>\n",
       "      <th>424</th>\n",
       "      <td>363869</td>\n",
       "      <td>Belli di papÃ</td>\n",
       "      <td>Diego Abatantuono|Matilde Gioli|Andrea Pisani|...</td>\n",
       "      <td>Guido Chiesa</td>\n",
       "      <td>100</td>\n",
       "      <td>NaN</td>\n",
       "      <td>10/29/15</td>\n",
       "      <td>21</td>\n",
       "      <td>3.05</td>\n",
       "      <td>2015</td>\n",
       "      <td>0</td>\n",
       "      <td>0</td>\n",
       "    </tr>\n",
       "    <tr>\n",
       "      <th>620</th>\n",
       "      <td>361043</td>\n",
       "      <td>All Hallows' Eve 2</td>\n",
       "      <td>NaN</td>\n",
       "      <td>Antonio Padovan|Bryan Norton|Marc Roussel|Ryan...</td>\n",
       "      <td>90</td>\n",
       "      <td>NaN</td>\n",
       "      <td>10/06/2015</td>\n",
       "      <td>13</td>\n",
       "      <td>2.50</td>\n",
       "      <td>2015</td>\n",
       "      <td>0</td>\n",
       "      <td>0</td>\n",
       "    </tr>\n",
       "    <tr>\n",
       "      <th>997</th>\n",
       "      <td>287663</td>\n",
       "      <td>Star Wars Rebels: Spark of Rebellion</td>\n",
       "      <td>Freddie Prinze Jr.|Vanessa Marshall|Steve Blum...</td>\n",
       "      <td>Steward Lee|Steven G. Lee</td>\n",
       "      <td>44</td>\n",
       "      <td>NaN</td>\n",
       "      <td>10/03/2014</td>\n",
       "      <td>13</td>\n",
       "      <td>3.40</td>\n",
       "      <td>2014</td>\n",
       "      <td>0</td>\n",
       "      <td>0</td>\n",
       "    </tr>\n",
       "    <tr>\n",
       "      <th>1712</th>\n",
       "      <td>21634</td>\n",
       "      <td>Prayers for Bobby</td>\n",
       "      <td>Ryan Kelley|Sigourney Weaver|Henry Czerny|Dan ...</td>\n",
       "      <td>Russell Mulcahy</td>\n",
       "      <td>88</td>\n",
       "      <td>NaN</td>\n",
       "      <td>2/27/09</td>\n",
       "      <td>57</td>\n",
       "      <td>3.70</td>\n",
       "      <td>2009</td>\n",
       "      <td>0</td>\n",
       "      <td>0</td>\n",
       "    </tr>\n",
       "    <tr>\n",
       "      <th>1897</th>\n",
       "      <td>40534</td>\n",
       "      <td>Jonas Brothers: The Concert Experience</td>\n",
       "      <td>Nick Jonas|Joe Jonas|Kevin Jonas|John Lloyd Ta...</td>\n",
       "      <td>Bruce Hendricks</td>\n",
       "      <td>76</td>\n",
       "      <td>NaN</td>\n",
       "      <td>2/27/09</td>\n",
       "      <td>11</td>\n",
       "      <td>3.50</td>\n",
       "      <td>2009</td>\n",
       "      <td>0</td>\n",
       "      <td>0</td>\n",
       "    </tr>\n",
       "  </tbody>\n",
       "</table>\n",
       "</div>"
      ],
      "text/plain": [
       "          id                                   title                                               cast                                           director  runtime genres release_date  users_voted  rating  release_year  budget  revenue\n",
       "424   363869                          Belli di papÃ   Diego Abatantuono|Matilde Gioli|Andrea Pisani|...                                       Guido Chiesa      100    NaN     10/29/15           21    3.05          2015       0        0\n",
       "620   361043                      All Hallows' Eve 2                                                NaN  Antonio Padovan|Bryan Norton|Marc Roussel|Ryan...       90    NaN   10/06/2015           13    2.50          2015       0        0\n",
       "997   287663    Star Wars Rebels: Spark of Rebellion  Freddie Prinze Jr.|Vanessa Marshall|Steve Blum...                          Steward Lee|Steven G. Lee       44    NaN   10/03/2014           13    3.40          2014       0        0\n",
       "1712   21634                       Prayers for Bobby  Ryan Kelley|Sigourney Weaver|Henry Czerny|Dan ...                                    Russell Mulcahy       88    NaN      2/27/09           57    3.70          2009       0        0\n",
       "1897   40534  Jonas Brothers: The Concert Experience  Nick Jonas|Joe Jonas|Kevin Jonas|John Lloyd Ta...                                    Bruce Hendricks       76    NaN      2/27/09           11    3.50          2009       0        0"
      ]
     },
     "execution_count": 114,
     "metadata": {},
     "output_type": "execute_result"
    }
   ],
   "source": [
    "print('Examples of missing \\'genres\\' values:')\n",
    "df[pd.isnull(df['genres'])].head(5)"
   ]
  },
  {
   "cell_type": "code",
   "execution_count": 115,
   "metadata": {},
   "outputs": [
    {
     "name": "stdout",
     "output_type": "stream",
     "text": [
      "Examples of missing 'rating' values:\n"
     ]
    },
    {
     "data": {
      "text/html": [
       "<div>\n",
       "<style scoped>\n",
       "    .dataframe tbody tr th:only-of-type {\n",
       "        vertical-align: middle;\n",
       "    }\n",
       "\n",
       "    .dataframe tbody tr th {\n",
       "        vertical-align: top;\n",
       "    }\n",
       "\n",
       "    .dataframe thead th {\n",
       "        text-align: right;\n",
       "    }\n",
       "</style>\n",
       "<table border=\"1\" class=\"dataframe\">\n",
       "  <thead>\n",
       "    <tr style=\"text-align: right;\">\n",
       "      <th></th>\n",
       "      <th>id</th>\n",
       "      <th>title</th>\n",
       "      <th>cast</th>\n",
       "      <th>director</th>\n",
       "      <th>runtime</th>\n",
       "      <th>genres</th>\n",
       "      <th>release_date</th>\n",
       "      <th>users_voted</th>\n",
       "      <th>rating</th>\n",
       "      <th>release_year</th>\n",
       "      <th>budget</th>\n",
       "      <th>revenue</th>\n",
       "    </tr>\n",
       "  </thead>\n",
       "  <tbody>\n",
       "    <tr>\n",
       "      <th>1009</th>\n",
       "      <td>276401</td>\n",
       "      <td>The Disappearance of Eleanor Rigby: Him</td>\n",
       "      <td>James McAvoy|Jessica Chastain|Bill Hader|CiarÃ...</td>\n",
       "      <td>Ned Benson</td>\n",
       "      <td>89</td>\n",
       "      <td>Romance|Drama</td>\n",
       "      <td>10/10/2014</td>\n",
       "      <td>44</td>\n",
       "      <td>NaN</td>\n",
       "      <td>2014</td>\n",
       "      <td>0</td>\n",
       "      <td>0</td>\n",
       "    </tr>\n",
       "    <tr>\n",
       "      <th>1499</th>\n",
       "      <td>22954</td>\n",
       "      <td>Invictus</td>\n",
       "      <td>Morgan Freeman|Matt Damon|Tony Kgoroge|Patrick...</td>\n",
       "      <td>Clint Eastwood</td>\n",
       "      <td>134</td>\n",
       "      <td>Drama|History</td>\n",
       "      <td>12/10/2009</td>\n",
       "      <td>675</td>\n",
       "      <td>NaN</td>\n",
       "      <td>2009</td>\n",
       "      <td>60000000</td>\n",
       "      <td>122233971</td>\n",
       "    </tr>\n",
       "    <tr>\n",
       "      <th>2350</th>\n",
       "      <td>11761</td>\n",
       "      <td>Peacock</td>\n",
       "      <td>Cillian Murphy|Ellen Page|Susan Sarandon|Josh ...</td>\n",
       "      <td>Michael Lander</td>\n",
       "      <td>90</td>\n",
       "      <td>Mystery|Thriller</td>\n",
       "      <td>4/20/10</td>\n",
       "      <td>22</td>\n",
       "      <td>NaN</td>\n",
       "      <td>2010</td>\n",
       "      <td>0</td>\n",
       "      <td>0</td>\n",
       "    </tr>\n",
       "    <tr>\n",
       "      <th>4052</th>\n",
       "      <td>2017</td>\n",
       "      <td>The House on Turk Street</td>\n",
       "      <td>Samuel L. Jackson|Milla Jovovich|Stellan Skars...</td>\n",
       "      <td>Bob Rafelson</td>\n",
       "      <td>97</td>\n",
       "      <td>Action|Crime|Drama|Mystery|Thriller</td>\n",
       "      <td>6/28/02</td>\n",
       "      <td>26</td>\n",
       "      <td>NaN</td>\n",
       "      <td>2002</td>\n",
       "      <td>12000000</td>\n",
       "      <td>0</td>\n",
       "    </tr>\n",
       "    <tr>\n",
       "      <th>6050</th>\n",
       "      <td>233863</td>\n",
       "      <td>Jimi Hendrix: Hear My Train A Comin'</td>\n",
       "      <td>Jimi Hendrix|Mitch Mitchell|Noel Redding|Billy...</td>\n",
       "      <td>Bob Smeaton</td>\n",
       "      <td>120</td>\n",
       "      <td>Documentary|History|Music</td>\n",
       "      <td>11/05/2013</td>\n",
       "      <td>11</td>\n",
       "      <td>NaN</td>\n",
       "      <td>2013</td>\n",
       "      <td>0</td>\n",
       "      <td>0</td>\n",
       "    </tr>\n",
       "  </tbody>\n",
       "</table>\n",
       "</div>"
      ],
      "text/plain": [
       "          id                                    title                                               cast        director  runtime                               genres release_date  users_voted  rating  release_year    budget    revenue\n",
       "1009  276401  The Disappearance of Eleanor Rigby: Him  James McAvoy|Jessica Chastain|Bill Hader|CiarÃ...      Ned Benson       89                        Romance|Drama   10/10/2014           44     NaN          2014         0          0\n",
       "1499   22954                                 Invictus  Morgan Freeman|Matt Damon|Tony Kgoroge|Patrick...  Clint Eastwood      134                        Drama|History   12/10/2009          675     NaN          2009  60000000  122233971\n",
       "2350   11761                                  Peacock  Cillian Murphy|Ellen Page|Susan Sarandon|Josh ...  Michael Lander       90                     Mystery|Thriller      4/20/10           22     NaN          2010         0          0\n",
       "4052    2017                 The House on Turk Street  Samuel L. Jackson|Milla Jovovich|Stellan Skars...    Bob Rafelson       97  Action|Crime|Drama|Mystery|Thriller      6/28/02           26     NaN          2002  12000000          0\n",
       "6050  233863     Jimi Hendrix: Hear My Train A Comin'  Jimi Hendrix|Mitch Mitchell|Noel Redding|Billy...     Bob Smeaton      120            Documentary|History|Music   11/05/2013           11     NaN          2013         0          0"
      ]
     },
     "execution_count": 115,
     "metadata": {},
     "output_type": "execute_result"
    }
   ],
   "source": [
    "print('Examples of missing \\'rating\\' values:')\n",
    "df[pd.isnull(df['rating'])].head(5)"
   ]
  },
  {
   "cell_type": "markdown",
   "metadata": {},
   "source": [
    "How does `pandas` or `numpy` handle missing values when we try to compute with data sets that include them? E.g. what happens if you try to compute some descriptive statistics (check how you can compute the 5-number-summary with pands) on a column that has missing data?"
   ]
  },
  {
   "cell_type": "code",
   "execution_count": 116,
   "metadata": {},
   "outputs": [
    {
     "data": {
      "text/html": [
       "<div>\n",
       "<style scoped>\n",
       "    .dataframe tbody tr th:only-of-type {\n",
       "        vertical-align: middle;\n",
       "    }\n",
       "\n",
       "    .dataframe tbody tr th {\n",
       "        vertical-align: top;\n",
       "    }\n",
       "\n",
       "    .dataframe thead th {\n",
       "        text-align: right;\n",
       "    }\n",
       "</style>\n",
       "<table border=\"1\" class=\"dataframe\">\n",
       "  <thead>\n",
       "    <tr style=\"text-align: right;\">\n",
       "      <th></th>\n",
       "      <th>age</th>\n",
       "    </tr>\n",
       "  </thead>\n",
       "  <tbody>\n",
       "    <tr>\n",
       "      <th>count</th>\n",
       "      <td>2.000000</td>\n",
       "    </tr>\n",
       "    <tr>\n",
       "      <th>mean</th>\n",
       "      <td>35.000000</td>\n",
       "    </tr>\n",
       "    <tr>\n",
       "      <th>std</th>\n",
       "      <td>21.213203</td>\n",
       "    </tr>\n",
       "    <tr>\n",
       "      <th>min</th>\n",
       "      <td>20.000000</td>\n",
       "    </tr>\n",
       "    <tr>\n",
       "      <th>25%</th>\n",
       "      <td>27.500000</td>\n",
       "    </tr>\n",
       "    <tr>\n",
       "      <th>50%</th>\n",
       "      <td>35.000000</td>\n",
       "    </tr>\n",
       "    <tr>\n",
       "      <th>75%</th>\n",
       "      <td>42.500000</td>\n",
       "    </tr>\n",
       "    <tr>\n",
       "      <th>max</th>\n",
       "      <td>50.000000</td>\n",
       "    </tr>\n",
       "  </tbody>\n",
       "</table>\n",
       "</div>"
      ],
      "text/plain": [
       "             age\n",
       "count   2.000000\n",
       "mean   35.000000\n",
       "std    21.213203\n",
       "min    20.000000\n",
       "25%    27.500000\n",
       "50%    35.000000\n",
       "75%    42.500000\n",
       "max    50.000000"
      ]
     },
     "execution_count": 116,
     "metadata": {},
     "output_type": "execute_result"
    }
   ],
   "source": [
    "test_data = [\n",
    "    ['Tom', 20],\n",
    "    ['Dan', np.nan],\n",
    "    ['Mat', 50]\n",
    "]\n",
    "\n",
    "test_df = pd.DataFrame(test_data, columns = ['name', 'age'])\n",
    "\n",
    "test_df.describe()"
   ]
  },
  {
   "cell_type": "markdown",
   "metadata": {},
   "source": [
    "## Answer:\n",
    "The test data initially contains 3 data points. One of the numerical values for 'age' is NaN. The describe() method prints out statistics about the data in the dataframe. It excludes the missing values - the count statistic at the end evaluates to 2 (excluding Dan and his age from the data points). "
   ]
  },
  {
   "cell_type": "markdown",
   "metadata": {},
   "source": [
    "### Cleaning: Dealing with Missing Values\n",
    "How should we interpret 'missing' or 'invalid' values in the data (hint: look at where these values occur)?\n",
    "\n",
    "Think of the techniques we discussed during lecture and apply it below. Remember that there is no golden rule about which technique is best, as long as you as an experienced data scientist report how you handled them."
   ]
  },
  {
   "cell_type": "code",
   "execution_count": 117,
   "metadata": {},
   "outputs": [],
   "source": [
    "#Treat the missing or invalid values in your dataframe\n",
    "\n",
    "df['revenue'] = df['revenue'].replace(0, np.nan)\n",
    "df['budget'] = df['budget'].replace(0, np.nan)\n",
    "\n",
    "na_substitutions = {\n",
    "    'cast': 'Unspecified',\n",
    "    'director': 'Unknown',\n",
    "    'genres': 'Unidentified',\n",
    "    'rating': df['rating'].mean(skipna=True),\n",
    "    'budget': df['budget'].mean(skipna=True),\n",
    "    'revenue': df['revenue'].mean(skipna=True)\n",
    "}\n",
    "\n",
    "df = df.fillna(value=na_substitutions)\n",
    "\n",
    "df['budget'] = df['budget'].astype('Int64')\n",
    "df['revenue'] = df['revenue'].astype('Int64')"
   ]
  },
  {
   "cell_type": "markdown",
   "metadata": {},
   "source": [
    "## Answer:\n",
    "There are 4 columns that contain missing values - director, cast, rating and genres:\n",
    "1. Director: The reason appears to be that somebody just did not fill that in. All movies have a director. Therefore, we substitute every missing value with the 'unknown' token.\n",
    "2. Cast: The reason could be that the film is only documentary and the is indeed no cast. Could also be that someone forgot to add in the cast. Therefore, we substitute every missing value with the 'unspecified' token.\n",
    "3. Genres: Again, someone must have forgotten to specify the genres of the movie. Also, one might have not concluded what's the exact genre of the movie. Therefore, we substitute every value with the 'unidentified' token.\n",
    "4. Rating: One of the reasons might still be that the data is just omitted by mistake or maybe no one voted for the movie yet (give it a rating). Therefore, we substitute the missing values with the mean of the present data. This would not cause any problem since there are only 5 occurances of missing rating data.\n",
    "5. Budget and revenue: There are a lot of 0 values for the budget and revenue, so we disregard those zeros and calculate the mean for both columns and replace the 0s in the dataframe with this values."
   ]
  },
  {
   "cell_type": "markdown",
   "metadata": {},
   "source": [
    "Ok so we have done some cleaning. Is it enough? "
   ]
  },
  {
   "cell_type": "markdown",
   "metadata": {},
   "source": [
    "## Answer:\n",
    "We cleaned up the missing values in the dataframe. However, this is not the only issue in the data - there's the problem with the date format. You can find the proposed solution in the 'Read in the data' section above: \n",
    "\n",
    "3. The best solution that I would choose is to remove the release year information in the release_date column. Then, we can sort the data points easier by first sorting the release_year and following - the release_date. Using this technique, we will get rid of the data duplication and the wrong date format of the release_date column at the same time."
   ]
  },
  {
   "cell_type": "code",
   "execution_count": 118,
   "metadata": {},
   "outputs": [
    {
     "name": "stdout",
     "output_type": "stream",
     "text": [
      "Column types of the dataframe:\n",
      "\n",
      "id                int64\n",
      "title            object\n",
      "cast             object\n",
      "director         object\n",
      "runtime           int64\n",
      "genres           object\n",
      "release_date     object\n",
      "users_voted       int64\n",
      "rating          float64\n",
      "release_year      int64\n",
      "budget            int64\n",
      "revenue           int64\n",
      "dtype: object\n",
      "\n",
      "Number of missing values per column:\n",
      "id              0\n",
      "title           0\n",
      "cast            0\n",
      "director        0\n",
      "runtime         0\n",
      "genres          0\n",
      "release_date    0\n",
      "users_voted     0\n",
      "rating          0\n",
      "release_year    0\n",
      "budget          0\n",
      "revenue         0\n",
      "dtype: int64\n"
     ]
    }
   ],
   "source": [
    "#Check the column data types again\n",
    "\n",
    "print('Column types of the dataframe:\\n')\n",
    "print(df.dtypes)\n",
    "\n",
    "print('\\nNumber of missing values per column:')\n",
    "print(df.isnull().sum())"
   ]
  },
  {
   "cell_type": "markdown",
   "metadata": {},
   "source": [
    "## Answer:\n",
    "It seems that there are no missing values in the dataframe and the column data types are also alright. For that reason, we proceed with handling the release_date format. Also, some of the months in the dataframe does not have a trailing 0, so we shoud also take that into account. The solution is to convert the release_date to date and change the format to MM/DD with the trailing 0."
   ]
  },
  {
   "cell_type": "code",
   "execution_count": 119,
   "metadata": {},
   "outputs": [
    {
     "data": {
      "text/html": [
       "<div>\n",
       "<style scoped>\n",
       "    .dataframe tbody tr th:only-of-type {\n",
       "        vertical-align: middle;\n",
       "    }\n",
       "\n",
       "    .dataframe tbody tr th {\n",
       "        vertical-align: top;\n",
       "    }\n",
       "\n",
       "    .dataframe thead th {\n",
       "        text-align: right;\n",
       "    }\n",
       "</style>\n",
       "<table border=\"1\" class=\"dataframe\">\n",
       "  <thead>\n",
       "    <tr style=\"text-align: right;\">\n",
       "      <th></th>\n",
       "      <th>id</th>\n",
       "      <th>title</th>\n",
       "      <th>cast</th>\n",
       "      <th>director</th>\n",
       "      <th>runtime</th>\n",
       "      <th>genres</th>\n",
       "      <th>release_date</th>\n",
       "      <th>users_voted</th>\n",
       "      <th>rating</th>\n",
       "      <th>release_year</th>\n",
       "      <th>budget</th>\n",
       "      <th>revenue</th>\n",
       "    </tr>\n",
       "  </thead>\n",
       "  <tbody>\n",
       "    <tr>\n",
       "      <th>0</th>\n",
       "      <td>135397</td>\n",
       "      <td>Jurassic World</td>\n",
       "      <td>Chris Pratt|Bryce Dallas Howard|Irrfan Khan|Vi...</td>\n",
       "      <td>Colin Trevorrow</td>\n",
       "      <td>124</td>\n",
       "      <td>Action|Adventure|Science Fiction|Thriller</td>\n",
       "      <td>06/09</td>\n",
       "      <td>5562</td>\n",
       "      <td>3.25</td>\n",
       "      <td>2015</td>\n",
       "      <td>150000000</td>\n",
       "      <td>1513528810</td>\n",
       "    </tr>\n",
       "    <tr>\n",
       "      <th>1</th>\n",
       "      <td>76341</td>\n",
       "      <td>Mad Max: Fury Road</td>\n",
       "      <td>Tom Hardy|Charlize Theron|Hugh Keays-Byrne|Nic...</td>\n",
       "      <td>George Miller</td>\n",
       "      <td>120</td>\n",
       "      <td>Action|Adventure|Science Fiction|Thriller</td>\n",
       "      <td>05/13</td>\n",
       "      <td>6185</td>\n",
       "      <td>3.55</td>\n",
       "      <td>2015</td>\n",
       "      <td>150000000</td>\n",
       "      <td>378436354</td>\n",
       "    </tr>\n",
       "    <tr>\n",
       "      <th>2</th>\n",
       "      <td>262500</td>\n",
       "      <td>Insurgent</td>\n",
       "      <td>Shailene Woodley|Theo James|Kate Winslet|Ansel...</td>\n",
       "      <td>Robert Schwentke</td>\n",
       "      <td>119</td>\n",
       "      <td>Adventure|Science Fiction|Thriller</td>\n",
       "      <td>03/18</td>\n",
       "      <td>2480</td>\n",
       "      <td>3.15</td>\n",
       "      <td>2015</td>\n",
       "      <td>110000000</td>\n",
       "      <td>295238201</td>\n",
       "    </tr>\n",
       "    <tr>\n",
       "      <th>3</th>\n",
       "      <td>140607</td>\n",
       "      <td>Star Wars: The Force Awakens</td>\n",
       "      <td>Harrison Ford|Mark Hamill|Carrie Fisher|Adam D...</td>\n",
       "      <td>J.J. Abrams</td>\n",
       "      <td>136</td>\n",
       "      <td>Action|Adventure|Science Fiction|Fantasy</td>\n",
       "      <td>12/15</td>\n",
       "      <td>5292</td>\n",
       "      <td>3.75</td>\n",
       "      <td>2015</td>\n",
       "      <td>200000000</td>\n",
       "      <td>2068178225</td>\n",
       "    </tr>\n",
       "    <tr>\n",
       "      <th>4</th>\n",
       "      <td>168259</td>\n",
       "      <td>Furious 7</td>\n",
       "      <td>Vin Diesel|Paul Walker|Jason Statham|Michelle ...</td>\n",
       "      <td>James Wan</td>\n",
       "      <td>137</td>\n",
       "      <td>Action|Crime|Thriller</td>\n",
       "      <td>04/01</td>\n",
       "      <td>2947</td>\n",
       "      <td>3.65</td>\n",
       "      <td>2015</td>\n",
       "      <td>190000000</td>\n",
       "      <td>1506249360</td>\n",
       "    </tr>\n",
       "    <tr>\n",
       "      <th>5</th>\n",
       "      <td>281957</td>\n",
       "      <td>The Revenant</td>\n",
       "      <td>Leonardo DiCaprio|Tom Hardy|Will Poulter|Domhn...</td>\n",
       "      <td>Alejandro GonzÃ¡lez IÃ±Ã¡rritu</td>\n",
       "      <td>156</td>\n",
       "      <td>Western|Drama|Adventure|Thriller</td>\n",
       "      <td>12/25</td>\n",
       "      <td>3929</td>\n",
       "      <td>3.60</td>\n",
       "      <td>2015</td>\n",
       "      <td>135000000</td>\n",
       "      <td>532950503</td>\n",
       "    </tr>\n",
       "    <tr>\n",
       "      <th>6</th>\n",
       "      <td>87101</td>\n",
       "      <td>Terminator Genisys</td>\n",
       "      <td>Arnold Schwarzenegger|Jason Clarke|Emilia Clar...</td>\n",
       "      <td>Alan Taylor</td>\n",
       "      <td>125</td>\n",
       "      <td>Science Fiction|Action|Thriller|Adventure</td>\n",
       "      <td>06/23</td>\n",
       "      <td>2598</td>\n",
       "      <td>2.90</td>\n",
       "      <td>2015</td>\n",
       "      <td>155000000</td>\n",
       "      <td>440603537</td>\n",
       "    </tr>\n",
       "    <tr>\n",
       "      <th>7</th>\n",
       "      <td>286217</td>\n",
       "      <td>The Martian</td>\n",
       "      <td>Matt Damon|Jessica Chastain|Kristen Wiig|Jeff ...</td>\n",
       "      <td>Ridley Scott</td>\n",
       "      <td>141</td>\n",
       "      <td>Drama|Adventure|Science Fiction</td>\n",
       "      <td>09/30</td>\n",
       "      <td>4572</td>\n",
       "      <td>3.80</td>\n",
       "      <td>2015</td>\n",
       "      <td>108000000</td>\n",
       "      <td>595380321</td>\n",
       "    </tr>\n",
       "    <tr>\n",
       "      <th>8</th>\n",
       "      <td>211672</td>\n",
       "      <td>Minions</td>\n",
       "      <td>Sandra Bullock|Jon Hamm|Michael Keaton|Allison...</td>\n",
       "      <td>Kyle Balda|Pierre Coffin</td>\n",
       "      <td>91</td>\n",
       "      <td>Family|Animation|Adventure|Comedy</td>\n",
       "      <td>06/17</td>\n",
       "      <td>2893</td>\n",
       "      <td>3.25</td>\n",
       "      <td>2015</td>\n",
       "      <td>74000000</td>\n",
       "      <td>1156730962</td>\n",
       "    </tr>\n",
       "    <tr>\n",
       "      <th>9</th>\n",
       "      <td>150540</td>\n",
       "      <td>Inside Out</td>\n",
       "      <td>Amy Poehler|Phyllis Smith|Richard Kind|Bill Ha...</td>\n",
       "      <td>Pete Docter</td>\n",
       "      <td>94</td>\n",
       "      <td>Comedy|Animation|Family</td>\n",
       "      <td>06/09</td>\n",
       "      <td>3935</td>\n",
       "      <td>4.00</td>\n",
       "      <td>2015</td>\n",
       "      <td>175000000</td>\n",
       "      <td>853708609</td>\n",
       "    </tr>\n",
       "  </tbody>\n",
       "</table>\n",
       "</div>"
      ],
      "text/plain": [
       "       id                         title                                               cast                        director  runtime                                     genres release_date  users_voted  rating  release_year     budget     revenue\n",
       "0  135397                Jurassic World  Chris Pratt|Bryce Dallas Howard|Irrfan Khan|Vi...                 Colin Trevorrow      124  Action|Adventure|Science Fiction|Thriller        06/09         5562    3.25          2015  150000000  1513528810\n",
       "1   76341            Mad Max: Fury Road  Tom Hardy|Charlize Theron|Hugh Keays-Byrne|Nic...                   George Miller      120  Action|Adventure|Science Fiction|Thriller        05/13         6185    3.55          2015  150000000   378436354\n",
       "2  262500                     Insurgent  Shailene Woodley|Theo James|Kate Winslet|Ansel...                Robert Schwentke      119         Adventure|Science Fiction|Thriller        03/18         2480    3.15          2015  110000000   295238201\n",
       "3  140607  Star Wars: The Force Awakens  Harrison Ford|Mark Hamill|Carrie Fisher|Adam D...                     J.J. Abrams      136   Action|Adventure|Science Fiction|Fantasy        12/15         5292    3.75          2015  200000000  2068178225\n",
       "4  168259                     Furious 7  Vin Diesel|Paul Walker|Jason Statham|Michelle ...                       James Wan      137                      Action|Crime|Thriller        04/01         2947    3.65          2015  190000000  1506249360\n",
       "5  281957                  The Revenant  Leonardo DiCaprio|Tom Hardy|Will Poulter|Domhn...  Alejandro GonzÃ¡lez IÃ±Ã¡rritu      156           Western|Drama|Adventure|Thriller        12/25         3929    3.60          2015  135000000   532950503\n",
       "6   87101            Terminator Genisys  Arnold Schwarzenegger|Jason Clarke|Emilia Clar...                     Alan Taylor      125  Science Fiction|Action|Thriller|Adventure        06/23         2598    2.90          2015  155000000   440603537\n",
       "7  286217                   The Martian  Matt Damon|Jessica Chastain|Kristen Wiig|Jeff ...                    Ridley Scott      141            Drama|Adventure|Science Fiction        09/30         4572    3.80          2015  108000000   595380321\n",
       "8  211672                       Minions  Sandra Bullock|Jon Hamm|Michael Keaton|Allison...        Kyle Balda|Pierre Coffin       91          Family|Animation|Adventure|Comedy        06/17         2893    3.25          2015   74000000  1156730962\n",
       "9  150540                    Inside Out  Amy Poehler|Phyllis Smith|Richard Kind|Bill Ha...                     Pete Docter       94                    Comedy|Animation|Family        06/09         3935    4.00          2015  175000000   853708609"
      ]
     },
     "execution_count": 119,
     "metadata": {},
     "output_type": "execute_result"
    }
   ],
   "source": [
    "# Handling the release_date format. Removing the wrongly formatted year as it is duplicate and the root of the wrong format.\n",
    "# Also, trailing zero is added to the month if not existing.\n",
    "\n",
    "df['release_date'] = pd.to_datetime(df.release_date)\n",
    "df['release_date'] = df['release_date'].dt.strftime('%m/%d')\n",
    "\n",
    "df.head(10)"
   ]
  },
  {
   "cell_type": "markdown",
   "metadata": {},
   "source": [
    "##  Part 2: Asking Questions\n",
    "Think of few questions we want to ask and then examine the data and decide if the dataframe contains what you need to address these questions. \n",
    "\n",
    "**Example:** Which are the highest rated movies? To determine this, you'll only need the data in two columns: `title` and `rating`. The task will be to sort these two columns by the value in `rating`.\n",
    "\n",
    "Try to formulate questions that you can explain to non-scientists and use your imagination (e.g. look for your favorite actor or movie)\n"
   ]
  },
  {
   "cell_type": "markdown",
   "metadata": {},
   "source": [
    "### Questions:\n",
    "\n",
    "1. Which are the highest reated movies? - Needed: movie title and rating -> verified (sort by rating)\n",
    "2. Which is the director with most movies? - Needed: director and movie id -> verified (sort by num. of movies)\n",
    "3. Which are all the movies within a specific year? - Needed: release year and movie title -> verified (group by year/simple select)\n",
    "4. What are the genres of the longest movies? - Needed: genres and movie runtime -> verified (sort by runtime)\n",
    "5. What are the genres of the movies with highest revenue? - Needed: genres and revenue -> verified (sort by revenue)\n",
    "6. Which are the oldest movies featuring Harrison Ford? - Needed: release date, release year and cast -> verified (sort by year)\n",
    "7. Which are the best movies based on user votes? - Needed: user votes and movie title -> verified (sort by user votes)\n",
    "\n",
    "Conclusion: All those questions could be answered with the current dataframe."
   ]
  },
  {
   "cell_type": "markdown",
   "metadata": {},
   "source": [
    "---"
   ]
  },
  {
   "cell_type": "markdown",
   "metadata": {},
   "source": [
    "## Part 3: EDA \n",
    "Before proceeding any further, get to know the dataset using a few \"global property\" visualizations, illustrating histograms or other visualizations. Do you find anything interesting or strange? Report it.\n",
    "\n",
    "\n",
    "\n",
    "---"
   ]
  },
  {
   "cell_type": "markdown",
   "metadata": {},
   "source": [
    "Choose the numerical (quantitative) columns to generate some histograms."
   ]
  },
  {
   "cell_type": "markdown",
   "metadata": {},
   "source": [
    "## 1. Movie rating\n",
    "The rating appears to be normally distributed with the mean close to 3. No further data cleaning was needed as the rating range was set a priori to be 1 to 5. The plot has been labelled accordingly."
   ]
  },
  {
   "cell_type": "code",
   "execution_count": 120,
   "metadata": {},
   "outputs": [
    {
     "data": {
      "image/png": "[encoded data removed]",
      "text/plain": [
       "<Figure size 432x288 with 1 Axes>"
      ]
     },
     "metadata": {
      "needs_background": "light"
     },
     "output_type": "display_data"
    }
   ],
   "source": [
    "# Plotting the rating for the movies in a histogram.\n",
    "df['rating'].hist(bins=20)\n",
    "\n",
    "plt.xlabel('Movie Rating')\n",
    "plt.ylabel('Number of Movies')\n",
    "plt.title('Movie Ratings')\n",
    "\n",
    "plt.show()"
   ]
  },
  {
   "cell_type": "markdown",
   "metadata": {},
   "source": [
    "If your histograms appear strange or counter-intuitive, make appropriate adjustments in the data and re-visualize. Remember that we might still need to some cleaning..."
   ]
  },
  {
   "cell_type": "markdown",
   "metadata": {},
   "source": [
    "## 2. Movie runtime\n",
    "The average runtime appears to be around 80 to 90 minutes. Further data cleaning was applied as the movie runtimes had certain outliers (e.g. duration of 0 or 900). Therefore, we examine only values between 20 and 300 minutes - within the reasonable. The plot has been labelled accordingly."
   ]
  },
  {
   "cell_type": "code",
   "execution_count": 121,
   "metadata": {},
   "outputs": [
    {
     "data": {
      "image/png": "[encoded data removed]",
      "text/plain": [
       "<Figure size 432x288 with 1 Axes>"
      ]
     },
     "metadata": {
      "needs_background": "light"
     },
     "output_type": "display_data"
    }
   ],
   "source": [
    "# Plotting the runtime for the movies in a histogram. Further preprocessing is applied.\n",
    "\n",
    "movie_runtimes_no_outliers = df[df['runtime'].isin(range(20, 300))]\n",
    "\n",
    "movie_runtimes_no_outliers['runtime'].hist(bins=30)\n",
    "\n",
    "plt.xlabel('Movie Runtime')\n",
    "plt.ylabel('Number of Movies')\n",
    "plt.title('Movie Runtimes')\n",
    "\n",
    "plt.show()"
   ]
  },
  {
   "cell_type": "markdown",
   "metadata": {},
   "source": [
    "## Part 4: Basic associations\n",
    "\n",
    "After we have inspected the individual values, it's time to start checking combinations of events, e.g. does the rating correlate with the budget or the revenue? Does the budget correlate with revenue? Analyze what your findings mean\n",
    "\n",
    "\n",
    "---"
   ]
  },
  {
   "cell_type": "code",
   "execution_count": 122,
   "metadata": {},
   "outputs": [
    {
     "name": "stdout",
     "output_type": "stream",
     "text": [
      "Correlation between rating and budget:\n",
      "0.05987409457676032\n"
     ]
    }
   ],
   "source": [
    "# Correlation between rating and budget\n",
    "\n",
    "print('Correlation between rating and budget:')\n",
    "print(df['rating'].corr(df['budget']))"
   ]
  },
  {
   "cell_type": "code",
   "execution_count": 123,
   "metadata": {},
   "outputs": [
    {
     "name": "stdout",
     "output_type": "stream",
     "text": [
      "Correlation between rating and revenue:\n",
      "0.11808274955140435\n"
     ]
    }
   ],
   "source": [
    "# Correlation between rating and revenue\n",
    "\n",
    "print('Correlation between rating and revenue:')\n",
    "print(df['rating'].corr(df['revenue']))"
   ]
  },
  {
   "cell_type": "code",
   "execution_count": 124,
   "metadata": {},
   "outputs": [
    {
     "name": "stdout",
     "output_type": "stream",
     "text": [
      "Correlation between revenue and budget:\n",
      "0.640891822030312\n"
     ]
    }
   ],
   "source": [
    "# Correlation between revenue and budget\n",
    "\n",
    "print('Correlation between revenue and budget:')\n",
    "print(df['revenue'].corr(df['budget']))"
   ]
  },
  {
   "cell_type": "code",
   "execution_count": 125,
   "metadata": {},
   "outputs": [
    {
     "name": "stdout",
     "output_type": "stream",
     "text": [
      "Correlation between rating and user votes:\n",
      "0.25379461944238174\n"
     ]
    }
   ],
   "source": [
    "# Correlation between rating and user votes\n",
    "\n",
    "print('Correlation between rating and user votes:')\n",
    "print(df['rating'].corr(df['users_voted']))"
   ]
  },
  {
   "cell_type": "code",
   "execution_count": 126,
   "metadata": {},
   "outputs": [
    {
     "name": "stdout",
     "output_type": "stream",
     "text": [
      "Correlation between revenue and user votes:\n",
      "0.7151511544606605\n"
     ]
    }
   ],
   "source": [
    "# Correlation between revenue and user votes\n",
    "\n",
    "print('Correlation between revenue and user votes:')\n",
    "print(df['revenue'].corr(df['users_voted']))"
   ]
  },
  {
   "cell_type": "code",
   "execution_count": 127,
   "metadata": {},
   "outputs": [
    {
     "name": "stdout",
     "output_type": "stream",
     "text": [
      "Correlation between budget and user votes:\n",
      "0.54786950503761\n"
     ]
    }
   ],
   "source": [
    "# Correlation between budget and user votes\n",
    "\n",
    "print('Correlation between budget and user votes:')\n",
    "print(df['budget'].corr(df['users_voted']))"
   ]
  },
  {
   "cell_type": "code",
   "execution_count": 128,
   "metadata": {},
   "outputs": [
    {
     "data": {
      "text/plain": [
       "<matplotlib.axes._subplots.AxesSubplot at 0x200a9af77f0>"
      ]
     },
     "execution_count": 128,
     "metadata": {},
     "output_type": "execute_result"
    },
    {
     "data": {
      "image/png": "[encoded data removed]",
      "text/plain": [
       "<Figure size 432x288 with 2 Axes>"
      ]
     },
     "metadata": {
      "needs_background": "light"
     },
     "output_type": "display_data"
    }
   ],
   "source": [
    "# Better way of computing and also visualizing correlation within a given dataframe.\n",
    "\n",
    "corr = df.corr()\n",
    "\n",
    "sns.heatmap(corr, \n",
    "            xticklabels=corr.columns.values,\n",
    "            yticklabels=corr.columns.values)"
   ]
  },
  {
   "cell_type": "markdown",
   "metadata": {},
   "source": [
    "### Conclusions:\n",
    "#### Correlation results (ordered from highest to lowest):\n",
    "1. User votes and revenue $ \\approx $ 0.715\n",
    "2. Revenue and budget $ \\approx $ 0.641\n",
    "3. Budget and user votes $ \\approx $ 0.548\n",
    "4. Rating and user votes $ \\approx $ 0.254\n",
    "5. Rating and revenue $ \\approx $ 0.118\n",
    "6. Rating and budget $ \\approx $ 0.06\n",
    "\n",
    "If we also observe the plot, we can depict the exact same information. The only additional relatively strong correlation is between the id and release year. This is normal since the database has probaly been filled in sequentially. Therefore, the year was increasing as well as the autoincrementing id. There is not much more that one could infer by this correlation."
   ]
  },
  {
   "cell_type": "markdown",
   "metadata": {},
   "source": [
    "\n",
    "## Part 5:  Determining the Most Successful Movies \n",
    "\n",
    "This is an example of an analysis of the \"grouped property\" type.\n",
    "\n",
    "Think of some reasonable definitions of what it could mean to be a \"most successful movie\", e.g. could be the movie that brought more income (that is revenue reduced by the budget) or could be the highest rated movies.\n",
    "\n",
    "\n",
    "---"
   ]
  },
  {
   "cell_type": "markdown",
   "metadata": {},
   "source": [
    "For example, we can determine the \"best successful\" movie by year! Determine the best movie in each year."
   ]
  },
  {
   "cell_type": "markdown",
   "metadata": {},
   "source": [
    "## Here 'most successful movie' means 'the movie with the highest revenue'.\n",
    "Comment: The revenue often reflects the popularity of the movie in the beginning as it outlines the ticket and franchise sales rather accurately."
   ]
  },
  {
   "cell_type": "code",
   "execution_count": 129,
   "metadata": {},
   "outputs": [
    {
     "name": "stdout",
     "output_type": "stream",
     "text": [
      "Best movie in year 1960: Let's Make Love\n",
      "Best movie in year 1961: One Hundred and One Dalmatians\n",
      "Best movie in year 1962: Lolita\n",
      "Best movie in year 1963: The Sword in the Stone\n",
      "Best movie in year 1964: Goldfinger\n",
      "Best movie in year 1965: The Sound of Music\n",
      "Best movie in year 1966: How the Grinch Stole Christmas!\n",
      "Best movie in year 1967: The Jungle Book\n",
      "Best movie in year 1968: Night of the Living Dead\n",
      "Best movie in year 1969: Butch Cassidy and the Sundance Kid\n",
      "Best movie in year 1970: Love Story\n",
      "Best movie in year 1971: Diamonds Are Forever\n",
      "Best movie in year 1972: The Godfather\n",
      "Best movie in year 1973: The Exorcist\n",
      "Best movie in year 1974: Blazing Saddles\n",
      "Best movie in year 1975: Jaws\n",
      "Best movie in year 1976: A Star Is Born\n",
      "Best movie in year 1977: Star Wars\n",
      "Best movie in year 1978: Superman\n",
      "Best movie in year 1979: Moonraker\n",
      "Best movie in year 1980: The Empire Strikes Back\n",
      "Best movie in year 1981: Raiders of the Lost Ark\n",
      "Best movie in year 1982: E.T. the Extra-Terrestrial\n",
      "Best movie in year 1983: Return of the Jedi\n",
      "Best movie in year 1984: Indiana Jones and the Temple of Doom\n",
      "Best movie in year 1985: Back to the Future\n",
      "Best movie in year 1986: Top Gun\n",
      "Best movie in year 1987: Fatal Attraction\n",
      "Best movie in year 1988: Rain Man\n",
      "Best movie in year 1989: Indiana Jones and the Last Crusade\n",
      "Best movie in year 1990: Ghost\n",
      "Best movie in year 1991: Terminator 2: Judgment Day\n",
      "Best movie in year 1992: Aladdin\n",
      "Best movie in year 1993: Jurassic Park\n",
      "Best movie in year 1994: The Lion King\n",
      "Best movie in year 1995: The Net\n",
      "Best movie in year 1996: Independence Day\n",
      "Best movie in year 1997: Titanic\n",
      "Best movie in year 1998: Armageddon\n",
      "Best movie in year 1999: Star Wars: Episode I - The Phantom Menace\n",
      "Best movie in year 2000: Mission: Impossible II\n",
      "Best movie in year 2001: Harry Potter and the Philosopher's Stone\n",
      "Best movie in year 2002: The Lord of the Rings: The Two Towers\n",
      "Best movie in year 2003: The Lord of the Rings: The Return of the King\n",
      "Best movie in year 2004: Shrek 2\n",
      "Best movie in year 2005: Harry Potter and the Goblet of Fire\n",
      "Best movie in year 2006: Pirates of the Caribbean: Dead Man's Chest\n",
      "Best movie in year 2007: Pirates of the Caribbean: At World's End\n",
      "Best movie in year 2008: The Dark Knight\n",
      "Best movie in year 2009: Avatar\n",
      "Best movie in year 2010: Toy Story 3\n",
      "Best movie in year 2011: Harry Potter and the Deathly Hallows: Part 2\n",
      "Best movie in year 2012: The Avengers\n",
      "Best movie in year 2013: Frozen\n",
      "Best movie in year 2014: The Hobbit: The Battle of the Five Armies\n",
      "Best movie in year 2015: Star Wars: The Force Awakens\n"
     ]
    }
   ],
   "source": [
    "for release_year, subset in df.groupby('release_year'):\n",
    "    #Find the best movie of the year\n",
    "    \n",
    "    print('Best movie in year ' + str(release_year) + ': ' + df.loc[subset['revenue'].idxmax()]['title'])"
   ]
  },
  {
   "cell_type": "markdown",
   "metadata": {},
   "source": [
    "Try this for few other definitions of the \"best book\" using `.groupby`. Comment on the analysis (also use common sense)"
   ]
  },
  {
   "cell_type": "markdown",
   "metadata": {},
   "source": [
    "## Here 'most successful movie' means 'the movie with the highest rating'.\n",
    "Comment: Solely the rating represents the user's perception of the movie. They might have had a lot of enthusiasm before the movie but still be disappointed after watching it (the other way around is also possible)."
   ]
  },
  {
   "cell_type": "code",
   "execution_count": 130,
   "metadata": {},
   "outputs": [
    {
     "name": "stdout",
     "output_type": "stream",
     "text": [
      "Best movie in year 1960: Psycho\n",
      "Best movie in year 1961: One, Two, Three\n",
      "Best movie in year 1962: To Kill a Mockingbird\n",
      "Best movie in year 1963: Charade\n",
      "Best movie in year 1964: Dr. Strangelove or: How I Learned to Stop Worrying and Love the Bomb\n",
      "Best movie in year 1965: A Charlie Brown Christmas\n",
      "Best movie in year 1966: Winnie the Pooh and the Honey Tree\n",
      "Best movie in year 1967: Bonnie and Clyde\n",
      "Best movie in year 1968: 2001: A Space Odyssey\n",
      "Best movie in year 1969: Kes\n",
      "Best movie in year 1970: Gimme Shelter\n",
      "Best movie in year 1971: A Clockwork Orange\n",
      "Best movie in year 1972: The Godfather\n",
      "Best movie in year 1973: The Sting\n",
      "Best movie in year 1974: The Godfather: Part II\n",
      "Best movie in year 1975: One Flew Over the Cuckoo's Nest\n",
      "Best movie in year 1976: Taxi Driver\n",
      "Best movie in year 1977: Star Wars\n",
      "Best movie in year 1978: The Last Waltz\n",
      "Best movie in year 1979: Apocalypse Now\n",
      "Best movie in year 1980: The Empire Strikes Back\n",
      "Best movie in year 1981: Queen - Rock Montreal\n",
      "Best movie in year 1982: Vincent\n",
      "Best movie in year 1983: Michael Jackson's Thriller\n",
      "Best movie in year 1984: Stop Making Sense\n",
      "Best movie in year 1985: Shoah\n",
      "Best movie in year 1986: MacskafogÃ³\n",
      "Best movie in year 1987: Full Metal Jacket\n",
      "Best movie in year 1988: The Thin Blue Line\n",
      "Best movie in year 1989: Depeche Mode: 101\n",
      "Best movie in year 1990: Goodfellas\n",
      "Best movie in year 1991: The Silence of the Lambs\n",
      "Best movie in year 1992: Bill Hicks: Relentless\n",
      "Best movie in year 1993: Schindler's List\n",
      "Best movie in year 1994: The Shawshank Redemption\n",
      "Best movie in year 1995: A Personal Journey with Martin Scorsese Through American Movies\n",
      "Best movie in year 1996: La Belle verte\n",
      "Best movie in year 1997: Geri's Game\n",
      "Best movie in year 1998: American History X\n",
      "Best movie in year 1999: Fight Club\n",
      "Best movie in year 2000: Dave Chappelle: Killin' Them Softly\n",
      "Best movie in year 2001: Band of Brothers\n",
      "Best movie in year 2002: The Century of the Self\n",
      "Best movie in year 2003: Tupac: Resurrection\n",
      "Best movie in year 2004: Eternal Sunshine of the Spotless Mind\n",
      "Best movie in year 2005: The Devil and Daniel Johnston\n",
      "Best movie in year 2006: Pink Floyd: Pulse\n",
      "Best movie in year 2007: The King of Kong\n",
      "Best movie in year 2008: John Mayer: Where the Light Is Live in Los Angeles\n",
      "Best movie in year 2009: Iron Maiden: Flight 666\n",
      "Best movie in year 2010: Life Cycles\n",
      "Best movie in year 2011: The Story of Film: An Odyssey\n",
      "Best movie in year 2012: London 2012 Olympic Opening Ceremony: Isles of Wonder\n",
      "Best movie in year 2013: Doctor Who: The Time of the Doctor\n",
      "Best movie in year 2014: Black Mirror: White Christmas\n",
      "Best movie in year 2015: The Mask You Live In\n"
     ]
    }
   ],
   "source": [
    "for release_year, subset in df.groupby('release_year'):\n",
    "    #Find the best movie of the year\n",
    "    \n",
    "    print('Best movie in year ' + str(release_year) + ': ' + df.loc[subset['rating'].idxmax()]['title'])"
   ]
  },
  {
   "cell_type": "markdown",
   "metadata": {},
   "source": [
    "## Part 6:  Trends in Popularity of Genres \n",
    "\n",
    "This is an example of an analysis of the \"grouped property\" type.\n",
    "\n",
    "There are a lot of questions you could ask about genres.\n",
    "* Which genre is currently the most popular?\n",
    "* Do you reach the same conclusions if you use as indication of popularity the revenue or the rating?\n",
    "* Better, based on our data, what conclusions can you draw about the time evolution of the popularity of each genre?\n",
    "\n",
    "\n",
    "---"
   ]
  },
  {
   "cell_type": "markdown",
   "metadata": {},
   "source": [
    "First we need to find the distinct genres in the dataframe. \n",
    "\n",
    "To do this, notice that each string is a pipe (|) separated list of genres. For each string, we ask if the genre is in that pipe separated list.  If it is, we return True, else False\n",
    "\n",
    "**Hint: remember that python sets have unique (non-repeating) items.**"
   ]
  },
  {
   "cell_type": "code",
   "execution_count": 131,
   "metadata": {},
   "outputs": [
    {
     "name": "stdout",
     "output_type": "stream",
     "text": [
      "{'Comedy', 'Family', 'Drama', 'Action', 'Western', 'Thriller', 'History', 'War', 'Science Fiction', 'Animation', 'Crime', 'TV Movie', 'Romance', 'Documentary', 'Fantasy', 'Unidentified', 'Mystery', 'Horror', 'Adventure', 'Music', 'Foreign'}\n"
     ]
    }
   ],
   "source": [
    "#Get the unique genres contained in the dataframe.\n",
    "\n",
    "genres = set()\n",
    "\n",
    "for idx, movie in df.iterrows():\n",
    "    for genre in movie['genres'].split('|'):\n",
    "        genres.add(genre)\n",
    "    \n",
    "print(genres)"
   ]
  },
  {
   "cell_type": "markdown",
   "metadata": {},
   "source": [
    "What happens if we add a column to the dataframe for each genre? \n",
    "\n",
    "Is this way of representing genre efficient? Allows for easy computation and visualization?\n",
    "\n",
    "Are there other ways to represent genre information in the dataframe that allow for each visualization?"
   ]
  },
  {
   "cell_type": "code",
   "execution_count": 132,
   "metadata": {},
   "outputs": [
    {
     "name": "stdout",
     "output_type": "stream",
     "text": [
      "Dataframe shape:\n"
     ]
    },
    {
     "data": {
      "text/html": [
       "<div>\n",
       "<style scoped>\n",
       "    .dataframe tbody tr th:only-of-type {\n",
       "        vertical-align: middle;\n",
       "    }\n",
       "\n",
       "    .dataframe tbody tr th {\n",
       "        vertical-align: top;\n",
       "    }\n",
       "\n",
       "    .dataframe thead th {\n",
       "        text-align: right;\n",
       "    }\n",
       "</style>\n",
       "<table border=\"1\" class=\"dataframe\">\n",
       "  <thead>\n",
       "    <tr style=\"text-align: right;\">\n",
       "      <th></th>\n",
       "      <th>id</th>\n",
       "      <th>title</th>\n",
       "      <th>cast</th>\n",
       "      <th>director</th>\n",
       "      <th>runtime</th>\n",
       "      <th>genres</th>\n",
       "      <th>release_date</th>\n",
       "      <th>users_voted</th>\n",
       "      <th>rating</th>\n",
       "      <th>release_year</th>\n",
       "      <th>budget</th>\n",
       "      <th>revenue</th>\n",
       "      <th>Comedy</th>\n",
       "      <th>Family</th>\n",
       "      <th>Drama</th>\n",
       "      <th>Action</th>\n",
       "      <th>Western</th>\n",
       "      <th>Thriller</th>\n",
       "      <th>History</th>\n",
       "      <th>War</th>\n",
       "      <th>Science Fiction</th>\n",
       "      <th>Animation</th>\n",
       "      <th>Crime</th>\n",
       "      <th>TV Movie</th>\n",
       "      <th>Romance</th>\n",
       "      <th>Documentary</th>\n",
       "      <th>Fantasy</th>\n",
       "      <th>Unidentified</th>\n",
       "      <th>Mystery</th>\n",
       "      <th>Horror</th>\n",
       "      <th>Adventure</th>\n",
       "      <th>Music</th>\n",
       "      <th>Foreign</th>\n",
       "    </tr>\n",
       "  </thead>\n",
       "  <tbody>\n",
       "    <tr>\n",
       "      <th>0</th>\n",
       "      <td>135397</td>\n",
       "      <td>Jurassic World</td>\n",
       "      <td>Chris Pratt|Bryce Dallas Howard|Irrfan Khan|Vi...</td>\n",
       "      <td>Colin Trevorrow</td>\n",
       "      <td>124</td>\n",
       "      <td>Action|Adventure|Science Fiction|Thriller</td>\n",
       "      <td>06/09</td>\n",
       "      <td>5562</td>\n",
       "      <td>3.25</td>\n",
       "      <td>2015</td>\n",
       "      <td>150000000</td>\n",
       "      <td>1513528810</td>\n",
       "      <td>False</td>\n",
       "      <td>False</td>\n",
       "      <td>False</td>\n",
       "      <td>True</td>\n",
       "      <td>False</td>\n",
       "      <td>True</td>\n",
       "      <td>False</td>\n",
       "      <td>False</td>\n",
       "      <td>True</td>\n",
       "      <td>False</td>\n",
       "      <td>False</td>\n",
       "      <td>False</td>\n",
       "      <td>False</td>\n",
       "      <td>False</td>\n",
       "      <td>False</td>\n",
       "      <td>False</td>\n",
       "      <td>False</td>\n",
       "      <td>False</td>\n",
       "      <td>True</td>\n",
       "      <td>False</td>\n",
       "      <td>False</td>\n",
       "    </tr>\n",
       "    <tr>\n",
       "      <th>1</th>\n",
       "      <td>76341</td>\n",
       "      <td>Mad Max: Fury Road</td>\n",
       "      <td>Tom Hardy|Charlize Theron|Hugh Keays-Byrne|Nic...</td>\n",
       "      <td>George Miller</td>\n",
       "      <td>120</td>\n",
       "      <td>Action|Adventure|Science Fiction|Thriller</td>\n",
       "      <td>05/13</td>\n",
       "      <td>6185</td>\n",
       "      <td>3.55</td>\n",
       "      <td>2015</td>\n",
       "      <td>150000000</td>\n",
       "      <td>378436354</td>\n",
       "      <td>False</td>\n",
       "      <td>False</td>\n",
       "      <td>False</td>\n",
       "      <td>True</td>\n",
       "      <td>False</td>\n",
       "      <td>True</td>\n",
       "      <td>False</td>\n",
       "      <td>False</td>\n",
       "      <td>True</td>\n",
       "      <td>False</td>\n",
       "      <td>False</td>\n",
       "      <td>False</td>\n",
       "      <td>False</td>\n",
       "      <td>False</td>\n",
       "      <td>False</td>\n",
       "      <td>False</td>\n",
       "      <td>False</td>\n",
       "      <td>False</td>\n",
       "      <td>True</td>\n",
       "      <td>False</td>\n",
       "      <td>False</td>\n",
       "    </tr>\n",
       "    <tr>\n",
       "      <th>2</th>\n",
       "      <td>262500</td>\n",
       "      <td>Insurgent</td>\n",
       "      <td>Shailene Woodley|Theo James|Kate Winslet|Ansel...</td>\n",
       "      <td>Robert Schwentke</td>\n",
       "      <td>119</td>\n",
       "      <td>Adventure|Science Fiction|Thriller</td>\n",
       "      <td>03/18</td>\n",
       "      <td>2480</td>\n",
       "      <td>3.15</td>\n",
       "      <td>2015</td>\n",
       "      <td>110000000</td>\n",
       "      <td>295238201</td>\n",
       "      <td>False</td>\n",
       "      <td>False</td>\n",
       "      <td>False</td>\n",
       "      <td>False</td>\n",
       "      <td>False</td>\n",
       "      <td>True</td>\n",
       "      <td>False</td>\n",
       "      <td>False</td>\n",
       "      <td>True</td>\n",
       "      <td>False</td>\n",
       "      <td>False</td>\n",
       "      <td>False</td>\n",
       "      <td>False</td>\n",
       "      <td>False</td>\n",
       "      <td>False</td>\n",
       "      <td>False</td>\n",
       "      <td>False</td>\n",
       "      <td>False</td>\n",
       "      <td>True</td>\n",
       "      <td>False</td>\n",
       "      <td>False</td>\n",
       "    </tr>\n",
       "    <tr>\n",
       "      <th>3</th>\n",
       "      <td>140607</td>\n",
       "      <td>Star Wars: The Force Awakens</td>\n",
       "      <td>Harrison Ford|Mark Hamill|Carrie Fisher|Adam D...</td>\n",
       "      <td>J.J. Abrams</td>\n",
       "      <td>136</td>\n",
       "      <td>Action|Adventure|Science Fiction|Fantasy</td>\n",
       "      <td>12/15</td>\n",
       "      <td>5292</td>\n",
       "      <td>3.75</td>\n",
       "      <td>2015</td>\n",
       "      <td>200000000</td>\n",
       "      <td>2068178225</td>\n",
       "      <td>False</td>\n",
       "      <td>False</td>\n",
       "      <td>False</td>\n",
       "      <td>True</td>\n",
       "      <td>False</td>\n",
       "      <td>False</td>\n",
       "      <td>False</td>\n",
       "      <td>False</td>\n",
       "      <td>True</td>\n",
       "      <td>False</td>\n",
       "      <td>False</td>\n",
       "      <td>False</td>\n",
       "      <td>False</td>\n",
       "      <td>False</td>\n",
       "      <td>True</td>\n",
       "      <td>False</td>\n",
       "      <td>False</td>\n",
       "      <td>False</td>\n",
       "      <td>True</td>\n",
       "      <td>False</td>\n",
       "      <td>False</td>\n",
       "    </tr>\n",
       "    <tr>\n",
       "      <th>4</th>\n",
       "      <td>168259</td>\n",
       "      <td>Furious 7</td>\n",
       "      <td>Vin Diesel|Paul Walker|Jason Statham|Michelle ...</td>\n",
       "      <td>James Wan</td>\n",
       "      <td>137</td>\n",
       "      <td>Action|Crime|Thriller</td>\n",
       "      <td>04/01</td>\n",
       "      <td>2947</td>\n",
       "      <td>3.65</td>\n",
       "      <td>2015</td>\n",
       "      <td>190000000</td>\n",
       "      <td>1506249360</td>\n",
       "      <td>False</td>\n",
       "      <td>False</td>\n",
       "      <td>False</td>\n",
       "      <td>True</td>\n",
       "      <td>False</td>\n",
       "      <td>True</td>\n",
       "      <td>False</td>\n",
       "      <td>False</td>\n",
       "      <td>False</td>\n",
       "      <td>False</td>\n",
       "      <td>True</td>\n",
       "      <td>False</td>\n",
       "      <td>False</td>\n",
       "      <td>False</td>\n",
       "      <td>False</td>\n",
       "      <td>False</td>\n",
       "      <td>False</td>\n",
       "      <td>False</td>\n",
       "      <td>False</td>\n",
       "      <td>False</td>\n",
       "      <td>False</td>\n",
       "    </tr>\n",
       "  </tbody>\n",
       "</table>\n",
       "</div>"
      ],
      "text/plain": [
       "       id                         title                                               cast          director  runtime                                     genres release_date  users_voted  rating  release_year     budget     revenue  Comedy  Family  Drama  Action  Western  Thriller  History    War  Science Fiction  Animation  Crime  TV Movie  Romance  Documentary  Fantasy  Unidentified  Mystery  Horror  Adventure  Music  Foreign\n",
       "0  135397                Jurassic World  Chris Pratt|Bryce Dallas Howard|Irrfan Khan|Vi...   Colin Trevorrow      124  Action|Adventure|Science Fiction|Thriller        06/09         5562    3.25          2015  150000000  1513528810   False   False  False    True    False      True    False  False             True      False  False     False    False        False    False         False    False   False       True  False    False\n",
       "1   76341            Mad Max: Fury Road  Tom Hardy|Charlize Theron|Hugh Keays-Byrne|Nic...     George Miller      120  Action|Adventure|Science Fiction|Thriller        05/13         6185    3.55          2015  150000000   378436354   False   False  False    True    False      True    False  False             True      False  False     False    False        False    False         False    False   False       True  False    False\n",
       "2  262500                     Insurgent  Shailene Woodley|Theo James|Kate Winslet|Ansel...  Robert Schwentke      119         Adventure|Science Fiction|Thriller        03/18         2480    3.15          2015  110000000   295238201   False   False  False   False    False      True    False  False             True      False  False     False    False        False    False         False    False   False       True  False    False\n",
       "3  140607  Star Wars: The Force Awakens  Harrison Ford|Mark Hamill|Carrie Fisher|Adam D...       J.J. Abrams      136   Action|Adventure|Science Fiction|Fantasy        12/15         5292    3.75          2015  200000000  2068178225   False   False  False    True    False     False    False  False             True      False  False     False    False        False     True         False    False   False       True  False    False\n",
       "4  168259                     Furious 7  Vin Diesel|Paul Walker|Jason Statham|Michelle ...         James Wan      137                      Action|Crime|Thriller        04/01         2947    3.65          2015  190000000  1506249360   False   False  False    True    False      True    False  False            False      False   True     False    False        False    False         False    False   False      False  False    False"
      ]
     },
     "execution_count": 132,
     "metadata": {},
     "output_type": "execute_result"
    }
   ],
   "source": [
    "#Add a column for each genre\n",
    "\n",
    "for genre in genres:\n",
    "    df[genre] = df['genres'].str.contains(genre)\n",
    "\n",
    "print('Dataframe shape:')\n",
    "df.shape\n",
    "\n",
    "df.head(5)"
   ]
  },
  {
   "cell_type": "markdown",
   "metadata": {},
   "source": [
    "## Answer:\n",
    "We can add a column for each gene in the dataframe. The type of each of these columns will be boolean and they will model whether certain movie has this particular genre. This representaion allows for faster access to movies of specific genres. However, if we only want to list the genes, we could access only the initial column 'genres'. This is why we still leave it in the dataframe despite keeping duplicate information. This new representations also gives easier ways for visualizing the data. There isn't any better way for remodelling the genres column, so that it allows for quicker and easier visualization."
   ]
  },
  {
   "cell_type": "markdown",
   "metadata": {},
   "source": [
    "Now explore some ways to visualize the genres represented in the dataframe. \n",
    "\n",
    "For example, you might ask which is the most represented genre."
   ]
  },
  {
   "cell_type": "code",
   "execution_count": 133,
   "metadata": {},
   "outputs": [
    {
     "data": {
      "image/png": "[encoded data removed]",
      "text/plain": [
       "<Figure size 432x288 with 1 Axes>"
      ]
     },
     "metadata": {
      "needs_background": "light"
     },
     "output_type": "display_data"
    }
   ],
   "source": [
    "# Which is the most represented genre\n",
    "\n",
    "genres_data = []\n",
    "for genre in genres:\n",
    "    genres_data.append([genre, df[genre].value_counts()[1]])\n",
    "\n",
    "df_genres = pd.DataFrame(genres_data, columns=['name', 'count'])\n",
    "df_genres.plot.bar(x='name', y='count')\n",
    "\n",
    "plt.xlabel('Genre')\n",
    "plt.ylabel('Number of Movies')\n",
    "plt.title('Most Represented Genres')\n",
    "\n",
    "plt.show()"
   ]
  },
  {
   "cell_type": "code",
   "execution_count": 134,
   "metadata": {},
   "outputs": [
    {
     "data": {
      "image/png": "[encoded data removed]",
      "text/plain": [
       "<Figure size 432x288 with 1 Axes>"
      ]
     },
     "metadata": {
      "needs_background": "light"
     },
     "output_type": "display_data"
    }
   ],
   "source": [
    "# Which genres bring the most revenue\n",
    "\n",
    "genres_revenue = []\n",
    "for genre in genres:\n",
    "    genres_revenue.append([genre, df[df[genre] == True]['revenue'].mean()])\n",
    "\n",
    "df_genres_revenue = pd.DataFrame(genres_revenue, columns=['name', 'avg_revenue'])\n",
    "df_genres_revenue.plot.bar(x='name', y='avg_revenue')\n",
    "\n",
    "plt.xlabel('Genre')\n",
    "plt.ylabel('Average Revenue (bln)')\n",
    "plt.title('Genre with Most Revenue')\n",
    "\n",
    "plt.show()"
   ]
  },
  {
   "cell_type": "code",
   "execution_count": 135,
   "metadata": {},
   "outputs": [
    {
     "data": {
      "image/png": "[encoded data removed]",
      "text/plain": [
       "<Figure size 432x288 with 1 Axes>"
      ]
     },
     "metadata": {
      "needs_background": "light"
     },
     "output_type": "display_data"
    }
   ],
   "source": [
    "# Which genres are user's favourite\n",
    "\n",
    "genres_rating = []\n",
    "for genre in genres:\n",
    "    genres_rating.append([genre, df[df[genre] == True]['rating'].mean()])\n",
    "\n",
    "df_genres_rating = pd.DataFrame(genres_rating, columns=['name', 'avg_rating'])\n",
    "df_genres_rating.plot.bar(x='name', y='avg_rating')\n",
    "\n",
    "plt.xlabel('Genre')\n",
    "plt.ylabel('User Rating')\n",
    "plt.title('User\\'s Favourite Genres')\n",
    "\n",
    "plt.show()"
   ]
  },
  {
   "cell_type": "markdown",
   "metadata": {},
   "source": [
    "### Part 6.1: What can you conclude from the above visualizations?\n",
    "\n",
    "Pick two or three genres and describe how the popularity of these genres fluctuates with time.  "
   ]
  },
  {
   "cell_type": "code",
   "execution_count": 136,
   "metadata": {},
   "outputs": [],
   "source": [
    "# We pick 3 genres: Adventure, Drama and Fantasy\n",
    "\n",
    "adventure_Y = []\n",
    "drama_Y = []\n",
    "fantasy_Y = []\n",
    "X = []\n",
    "\n",
    "for release_year, subset in df.groupby('release_year'):\n",
    "    X.append(release_year)\n",
    "    \n",
    "    adventure_Y.append(df[(df['Adventure'] == True) & (df['release_year'] == release_year)]['id'].count())\n",
    "    \n",
    "    drama_Y.append(df[(df['Drama'] == True) & (df['release_year'] == release_year)]['id'].count())\n",
    "    \n",
    "    fantasy_Y.append(df[(df['Fantasy'] == True) & (df['release_year'] == release_year)]['id'].count())"
   ]
  },
  {
   "cell_type": "code",
   "execution_count": 137,
   "metadata": {},
   "outputs": [
    {
     "data": {
      "image/png": "[encoded data removed]",
      "text/plain": [
       "<Figure size 432x288 with 1 Axes>"
      ]
     },
     "metadata": {
      "needs_background": "light"
     },
     "output_type": "display_data"
    }
   ],
   "source": [
    "# Plotting the popularity of Adventure movies (1960 - 2015)\n",
    "\n",
    "plt.plot(X, adventure_Y)\n",
    "\n",
    "plt.xlabel('Year')\n",
    "plt.ylabel('Count')\n",
    "plt.title('Popularity of Adventure Movies')\n",
    "\n",
    "plt.show()"
   ]
  },
  {
   "cell_type": "code",
   "execution_count": 138,
   "metadata": {},
   "outputs": [
    {
     "data": {
      "image/png": "[encoded data removed]",
      "text/plain": [
       "<Figure size 432x288 with 1 Axes>"
      ]
     },
     "metadata": {
      "needs_background": "light"
     },
     "output_type": "display_data"
    }
   ],
   "source": [
    "# Plotting the popularity of Drama movies (1960 - 2015)\n",
    "\n",
    "plt.plot(X, drama_Y)\n",
    "\n",
    "plt.xlabel('Year')\n",
    "plt.ylabel('Count')\n",
    "plt.title('Popularity of Drama Movies')\n",
    "\n",
    "plt.show()"
   ]
  },
  {
   "cell_type": "code",
   "execution_count": 139,
   "metadata": {},
   "outputs": [
    {
     "data": {
      "image/png": "[encoded data removed]",
      "text/plain": [
       "<Figure size 432x288 with 1 Axes>"
      ]
     },
     "metadata": {
      "needs_background": "light"
     },
     "output_type": "display_data"
    }
   ],
   "source": [
    "# Plotting the popularity of Fantasy movies (1960 - 2015)\n",
    "\n",
    "plt.plot(X, fantasy_Y)\n",
    "\n",
    "plt.xlabel('Year')\n",
    "plt.ylabel('Count')\n",
    "plt.title('Popularity of Fantasy Movies')\n",
    "\n",
    "plt.show()"
   ]
  },
  {
   "cell_type": "markdown",
   "metadata": {},
   "source": [
    "## Answer:\n",
    "We pick the fantasy, adventure and drama genres. Our popularity metric in this case would be the number of movies with the respective genre in each year (coming from the fact that if the genre is more popular, there would be a high demand and eventually more movies of that same genre). Overall, the number of movies (or their popularity) increases with time. However, there exist several interesting fluctuations on the graphs. The drama genre appears to be steadily increasing and directors keep on making such movies with the same fast pace. There are two major drops in the number of adventure movies in 2000 and in 2012. Nevertheless, this genre is currently at its best in terms of popularity. Contrary to the last two, the fantasy genre appears to be less popular currently compared to its peak popularity between 2005 to 2010."
   ]
  },
  {
   "cell_type": "markdown",
   "metadata": {},
   "source": [
    "## Part 7: Conclusions\n",
    "\n",
    "### 7.1 Limitations\n",
    "Are there any specific limitations in this dataset? Can we consider it complete? Is it noisy? Are there any ethical concerns?\n",
    "\n",
    "### Answer:\n",
    "There are limitations to the datasets. However, they are not that significant overall and could be fixed after applying some techniques:\n",
    "1. There was the problem with the date format that we tackled by converting the string to date and changing to one uniform format for all release_dates.\n",
    "2. The release year was a duplicate feature, so we removed it from the release_date column as it had its own one - release_year.\n",
    "3. There were plenty of missing values regarding cast, director and genres - we changed that by substituting with an appropriate token.\n",
    "4. There were few missing values for the rating that were set to the average rating of all movies - the mean.\n",
    "5. When examining the duration/runtime of the movie, there were several significant outliers - 0mins duration, 900mins duration, etc. We fixed that by omitting them in the process of calculating statistics or visualizations.\n",
    "6. There were only 20 different genres, so we managed to split the genres column into 20 separate ones. This allowed for better access, verification and visualization of specific genres characteristics. This also made it a lot easier to check the popularity of genres over time.\n",
    "\n",
    "Overall, we can consider the dataset complete as there were only few spots with missing data. Also, there were some outliers in the data and that introduced some noise to the dataframe when visualizing. With regards to the ethical concerns, there should not be any sensitive information in the dataset, so no apparent ethical issues are present.\n",
    "\n",
    "### 7.2 Main findings\n",
    "\n",
    "### Answer:\n",
    "1. We managed to clean the data - substitute missing values, disregard outliers, verify the data types and dimensions, provide a single date format for the entire dataframe based on certain observations and more.\n",
    "2. Then, we proceeded with gathering statistical measurements. We described the quantative columns by their mean, standard deviation, min and max values, the percentiles and more.\n",
    "3. Following, we plotted the distribution for movie rating and movie runtimes (without outliers).\n",
    "4. We defined two ways of measuring 'the most successful movie' for each year and we presented that.\n",
    "5. The dataframe was remodelled to allow for quicker and more efficient way to deal with genre queries.\n",
    "6. We computed the correlation between most of the important quantative variables in the dataset. The visualized plot showed a quicker way of getting an idea of which columns have higher association without having to compute the score for each pair. The results showed that the number of user votes, the movie revenue and the movie budget are highly positively correlated.\n",
    "7. Several statistics featuring genre queries were computed and visualized: the most represented genres are Thriller, Comedy and Drama; Fantasy, Animation and Adventure movies bring the most revenue; The documentary movies are the user's favourite genre.\n",
    "8. At the end, we visualized the popularity of the adventure, drama and fantasy movies based on the number of movies each year (1960 - 2015). There were getting increasingly popular but compared to 2015, the fantasy movies started losing the pace. Out of all three genres, the drama one appears to have an effortless road ahead with continuous steady increase. The adventure genre had its ups and downs throughout the years, but it's close to its peak (as of 2015)."
   ]
  },
  {
   "cell_type": "code",
   "execution_count": null,
   "metadata": {},
   "outputs": [],
   "source": []
  }
 ],
 "metadata": {
  "anaconda-cloud": {},
  "kernelspec": {
   "display_name": "Python 3",
   "language": "python",
   "name": "python3"
  },
  "language_info": {
   "codemirror_mode": {
    "name": "ipython",
    "version": 3
   },
   "file_extension": ".py",
   "mimetype": "text/x-python",
   "name": "python",
   "nbconvert_exporter": "python",
   "pygments_lexer": "ipython3",
   "version": "3.6.7"
  }
 },
 "nbformat": 4,
 "nbformat_minor": 1
}
